{
  "nbformat": 4,
  "nbformat_minor": 0,
  "metadata": {
    "colab": {
      "provenance": [],
      "gpuType": "T4",
      "mount_file_id": "1UnYEeocQ97-Z6IXD-b5PRtdwyx9AFZ1g",
      "authorship_tag": "ABX9TyPYKT1sR2qoiZ05OatwlTbm",
      "include_colab_link": true
    },
    "kernelspec": {
      "name": "python3",
      "display_name": "Python 3"
    },
    "language_info": {
      "name": "python"
    },
    "accelerator": "GPU"
  },
  "cells": [
    {
      "cell_type": "markdown",
      "metadata": {
        "id": "view-in-github",
        "colab_type": "text"
      },
      "source": [
        "<a href=\"https://colab.research.google.com/github/ShivamThapa243/Information-Retrieval/blob/main/positional_index.ipynb\" target=\"_parent\"><img src=\"https://colab.research.google.com/assets/colab-badge.svg\" alt=\"Open In Colab\"/></a>"
      ]
    },
    {
      "cell_type": "markdown",
      "source": [
        "# PREPROCESSING STAGE"
      ],
      "metadata": {
        "id": "uf3b75i_GyaO"
      }
    },
    {
      "cell_type": "markdown",
      "source": [
        "**Building a prositional inverted index**"
      ],
      "metadata": {
        "id": "i5Lge0cvy1oo"
      }
    },
    {
      "cell_type": "code",
      "source": [
        "# connecting to google drive to access the preprocessed data set\n",
        "\n",
        "from google.colab import drive\n",
        "drive.mount('/content/drive')"
      ],
      "metadata": {
        "colab": {
          "base_uri": "https://localhost:8080/"
        },
        "id": "ViD8SrJiy7BS",
        "outputId": "a6b5639e-4556-45d5-b6d1-7087ababd2ec"
      },
      "execution_count": 2,
      "outputs": [
        {
          "output_type": "stream",
          "name": "stdout",
          "text": [
            "Mounted at /content/drive\n"
          ]
        }
      ]
    },
    {
      "cell_type": "markdown",
      "source": [
        "**Function to build an positional inverted index**\n",
        "\n",
        "Structure of positional inverted index:\n",
        "\n",
        "    { word_1:\n",
        "      [ document_count : x,\n",
        "        { document_id_1 : [position_1, position_2, position_3] },\n",
        "        { document_id_2 : [position_4, position_5, position_6] },\n",
        "        { document_id_3 : [position_7, position_8, position_9] }\n",
        "      ]\n",
        "    },\n",
        "    { word_2:\n",
        "      [ document_count : y,\n",
        "        { document_id_1 : [position_1, position_2, position_3] },\n",
        "        { document_id_12 : [position_4, position_5, position_6] },\n",
        "        { document_id_23 : [position_7, position_8, position_9] }\n",
        "      ]\n",
        "    } ..."
      ],
      "metadata": {
        "id": "5Eopt9iXzmQ0"
      }
    },
    {
      "cell_type": "code",
      "source": [],
      "metadata": {
        "id": "otlb-kNszi6g"
      },
      "execution_count": null,
      "outputs": []
    }
  ]
}