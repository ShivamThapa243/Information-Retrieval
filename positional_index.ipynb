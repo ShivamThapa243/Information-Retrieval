{
  "nbformat": 4,
  "nbformat_minor": 0,
  "metadata": {
    "colab": {
      "provenance": [],
      "gpuType": "T4",
      "mount_file_id": "1UnYEeocQ97-Z6IXD-b5PRtdwyx9AFZ1g",
      "authorship_tag": "ABX9TyP+xuiQor3BYm26kwSPpp6c",
      "include_colab_link": true
    },
    "kernelspec": {
      "name": "python3",
      "display_name": "Python 3"
    },
    "language_info": {
      "name": "python"
    },
    "accelerator": "GPU"
  },
  "cells": [
    {
      "cell_type": "markdown",
      "metadata": {
        "id": "view-in-github",
        "colab_type": "text"
      },
      "source": [
        "<a href=\"https://colab.research.google.com/github/ShivamThapa243/Information-Retrieval/blob/main/positional_index.ipynb\" target=\"_parent\"><img src=\"https://colab.research.google.com/assets/colab-badge.svg\" alt=\"Open In Colab\"/></a>"
      ]
    },
    {
      "cell_type": "markdown",
      "source": [
        "# **POSITIONAL INVERTED INDEX**"
      ],
      "metadata": {
        "id": "uf3b75i_GyaO"
      }
    },
    {
      "cell_type": "markdown",
      "source": [
        "# Building a Positional Inverted Index"
      ],
      "metadata": {
        "id": "i5Lge0cvy1oo"
      }
    },
    {
      "cell_type": "code",
      "source": [
        "# connecting to google drive to access the preprocessed data set\n",
        "\n",
        "from google.colab import drive\n",
        "drive.mount('/content/drive')"
      ],
      "metadata": {
        "colab": {
          "base_uri": "https://localhost:8080/"
        },
        "id": "ViD8SrJiy7BS",
        "outputId": "8e98608b-6f9a-4701-bcde-a31a2e87aa44"
      },
      "execution_count": 19,
      "outputs": [
        {
          "output_type": "stream",
          "name": "stdout",
          "text": [
            "Drive already mounted at /content/drive; to attempt to forcibly remount, call drive.mount(\"/content/drive\", force_remount=True).\n"
          ]
        }
      ]
    },
    {
      "cell_type": "markdown",
      "source": [
        "**Structure of Positional Inverted Index:**\n",
        "\n",
        "    {\n",
        "      token_1: [\n",
        "          {\n",
        "            'document_id' : x, 'position' : [position_1, position_2, position_3]\n",
        "          },\n",
        "          {\n",
        "            'document_id' : y, 'position' : [position_4, position_5, position_6]\n",
        "          },\n",
        "          {\n",
        "            'document_id' : z, 'position' : [position_7, position_8, position_9]\n",
        "          }\n",
        "      ],\n",
        "      \"caesar\": [\n",
        "          {\n",
        "            'document_id' : 51, 'position' : [0, 7, 20]\n",
        "          },\n",
        "          {\n",
        "            'document_id' : 79, 'position' : [67, 81]\n",
        "          },\n",
        "          {\n",
        "            'document_id' : 103, 'position' : [4, 12, 51]\n",
        "          }\n",
        "      ], ...\n",
        "    }"
      ],
      "metadata": {
        "id": "5Eopt9iXzmQ0"
      }
    },
    {
      "cell_type": "markdown",
      "source": [
        "**Function to build a Positional Inverted Index**"
      ],
      "metadata": {
        "id": "jftjin8N-JES"
      }
    },
    {
      "cell_type": "code",
      "source": [
        "import os\n",
        "\n",
        "def positional_inverted_index_builder(dataset_directory):\n",
        "\n",
        "  positional_inverted_index = {}\n",
        "\n",
        "  list_of_files = os.listdir(dataset_directory)\n",
        "\n",
        "  for filename in list_of_files:\n",
        "    if filename.endswith(\".txt\"):\n",
        "      # reading each .txt file present in the directory\n",
        "      file_path = os.path.join(dataset_directory, filename)\n",
        "      with open(file_path, 'r') as file:\n",
        "        content = file.read()\n",
        "        tokens = content.split()\n",
        "\n",
        "        for position, token in enumerate(tokens):\n",
        "          if token not in positional_inverted_index:\n",
        "            positional_inverted_index[token] = [{'document_id': filename, 'positions': [position]}]\n",
        "          else:\n",
        "            # Check if the document entry already exists for this token\n",
        "            doc_entry_found = False\n",
        "            for entry in positional_inverted_index[token]:\n",
        "              if entry['document_id'] == filename:\n",
        "                entry['positions'].append(position)\n",
        "                doc_entry_found = True\n",
        "                break\n",
        "            # If the document entry was not found, add a new entry\n",
        "            if not doc_entry_found:\n",
        "              positional_inverted_index[token].append({'document_id': filename, 'positions': [position]})\n",
        "\n",
        "\n",
        "  return positional_inverted_index"
      ],
      "metadata": {
        "id": "uai1PPeYg1ML"
      },
      "execution_count": 20,
      "outputs": []
    },
    {
      "cell_type": "markdown",
      "source": [
        "**Invoking the positional_inverted_index_builder function to build the positional inverted index**"
      ],
      "metadata": {
        "id": "QtjnU3nO95hi"
      }
    },
    {
      "cell_type": "code",
      "source": [
        "# fetching the preprocessed data files\n",
        "dataset_directory = \"/content/drive/MyDrive/Information Retrieval/preprocessed_data\"\n",
        "\n",
        "# positional-inverted_index_builder function called\n",
        "positional_inverted_index = positional_inverted_index_builder(dataset_directory)\n",
        "\n",
        "directory_path = \"/content/drive/MyDrive/Information Retrieval\"\n",
        "text_file_name = \"positional_inverted_index.txt\"\n",
        "\n",
        "# writing the positional inverted index to a text file\n",
        "\n",
        "with open(os.path.join(directory_path, text_file_name), 'w') as file:\n",
        "    for term in positional_inverted_index:\n",
        "        file.write(f\"{term} : \\n\")\n",
        "        for entry in positional_inverted_index[term]:\n",
        "          file.write(f\"\\tDocument ID :  {entry['document_id']}\")\n",
        "          file.write(f\"\\tPositions : {entry['positions']}\\n\")\n",
        "        file.write(\"\\n\")\n",
        "\n",
        "print(\"Positional Inverted index created\")"
      ],
      "metadata": {
        "colab": {
          "base_uri": "https://localhost:8080/"
        },
        "id": "otlb-kNszi6g",
        "outputId": "a28f4d1f-d7e6-40a4-8f5e-fd13676fbc68"
      },
      "execution_count": 21,
      "outputs": [
        {
          "output_type": "stream",
          "name": "stdout",
          "text": [
            "Positional Inverted index created\n"
          ]
        }
      ]
    },
    {
      "cell_type": "markdown",
      "source": [
        "Sorting the positional index:\n",
        "1.  Positions in ascending order\n",
        "2.  Document IDs in lexograpgical order\n"
      ],
      "metadata": {
        "id": "qhN0d3drsJQU"
      }
    },
    {
      "cell_type": "code",
      "source": [
        "import re\n",
        "\n",
        "def extract_numeric_part(document_name):\n",
        "  pattern = re.compile(r'\\d+')\n",
        "  matches = pattern.search(document_name)\n",
        "  return int(matches.group())\n",
        "\n",
        "\n",
        "for term in positional_inverted_index:\n",
        "  # Positions in ascending order\n",
        "  for entry in positional_inverted_index[term]:\n",
        "    entry['positions'].sort()\n",
        "\n",
        "  # Document IDs in lexograpgical order\n",
        "  positional_inverted_index[term] = sorted(positional_inverted_index[term], key = lambda x : extract_numeric_part(x['document_id']))\n",
        "\n",
        "  # renaming the file in the original format\n",
        "  for entry in positional_inverted_index[term]:\n",
        "    if not entry['document_id'].startswith('file') and not entry['document_id'].endswith('.txt'):\n",
        "      numeric_part = extract_numeric_part(entry['document-id'])\n",
        "      entry['document_id'] = f\"file{numeric_part}.txt\""
      ],
      "metadata": {
        "id": "h_3Wir8lsOTN"
      },
      "execution_count": 24,
      "outputs": []
    },
    {
      "cell_type": "markdown",
      "source": [
        "Writing the sorted positional inverted index into a text file"
      ],
      "metadata": {
        "id": "Av_ps9Jzsu_R"
      }
    },
    {
      "cell_type": "code",
      "source": [
        "sorted_file_name = \"sorted_positional_inverted_index.txt\"\n",
        "\n",
        "with open(os.path.join(directory_path, sorted_file_name), 'w') as file:\n",
        "  for term in positional_inverted_index:\n",
        "    file.write(f\"{term :}\\n\")\n",
        "    for entry in positional_inverted_index[term]:\n",
        "      file.write(f\"\\tDocument ID :  {entry['document_id']}\")\n",
        "      file.write(f\"\\tPositions : {entry['positions']}\\n\")\n",
        "    file.write(\"\\n\")\n",
        "\n",
        "print(\"Sorted Positional Inverted Index created\")"
      ],
      "metadata": {
        "colab": {
          "base_uri": "https://localhost:8080/"
        },
        "id": "x64qeXZmW432",
        "outputId": "9659f77e-fe7b-49b1-8b5f-48e27a930e5a"
      },
      "execution_count": 23,
      "outputs": [
        {
          "output_type": "stream",
          "name": "stdout",
          "text": [
            "Sorted Positional Inverted Index created\n"
          ]
        }
      ]
    },
    {
      "cell_type": "markdown",
      "source": [
        "# Pickling Positional Inverted Index"
      ],
      "metadata": {
        "id": "-64VgJM5pgFZ"
      }
    },
    {
      "cell_type": "code",
      "source": [
        "import pickle\n",
        "\n",
        "pickle_file_name = \"positional_inverted_index.pkl\"\n",
        "\n",
        "with open(os.path.join(directory_path, pickle_file_name), 'wb') as file:\n",
        "    pickle.dump(positional_inverted_index, file)\n",
        "    print(\"Positional Inverted Index pickled\")"
      ],
      "metadata": {
        "colab": {
          "base_uri": "https://localhost:8080/"
        },
        "id": "S_fBh3repfXm",
        "outputId": "2a4ad2ce-3f96-43e5-a237-3f1cc06cc562"
      },
      "execution_count": 25,
      "outputs": [
        {
          "output_type": "stream",
          "name": "stdout",
          "text": [
            "Positional Inverted Index pickled\n"
          ]
        }
      ]
    },
    {
      "cell_type": "markdown",
      "source": [
        "# Handling Query Operations"
      ],
      "metadata": {
        "id": "PAaAV1BQwkTV"
      }
    },
    {
      "cell_type": "markdown",
      "source": [
        "Retrieveing the documents that matches the tokens and position"
      ],
      "metadata": {
        "id": "4PHMXiCEUE9f"
      }
    },
    {
      "cell_type": "code",
      "source": [
        "def documents_retrieval_system(phrase_list, inverted_index):\n",
        "  positional_index = {}\n",
        "\n",
        "  for token in phrase_list:\n",
        "    if token in inverted_index:\n",
        "      positional_index.append(inverted_index[token])\n",
        "    else :\n",
        "      return []\n",
        "\n",
        "  p1 = positional_index[0]\n",
        "\n",
        "  for index in range(1, len(phrase_list)):\n",
        "    p2 = positional_index[index]\n",
        "\n",
        "    intermediate_positional_index = intersection(p1, p2)\n",
        "\n",
        "    p1 = intermediate_positional_index\n",
        "\n",
        "  return p1\n",
        "\n",
        "def intersection(p1, p2):\n",
        "  intersection_positional_index = {}\n",
        "  while p1 and p2:\n",
        "    if p1[0]['document_id'] == p2[0]['document_id']:\n",
        "      doc_id = p1[0]['document_id']\n",
        "      position_list = []\n",
        "\n",
        "      position_list_p1 = p1[0]['positions']\n",
        "      position_list_p2 = p2[0]['positions']\n",
        "\n",
        "      index_p1 = 0\n",
        "      index_p2 = 0\n",
        "\n",
        "      while index_p1 < len(position_list_p1):\n",
        "        while index_p2 < len(position_list_p2):\n",
        "          if abs(position_list_p1[index_p1] - position_list_p2[index_p2]) == 1:\n",
        "            position_list.append(index_p2)\n",
        "\n",
        "          elif position_list_p2[index_p2] > position_list_p1[index_p1]:\n",
        "            break\n",
        "          index_p2 += 1\n",
        "\n",
        "          intersection_positional_index.append({'document_id' : doc_id, 'positions' : position_list})\n",
        "        index_p1 += 1\n",
        "      p1.pop(0)\n",
        "      p2.pop(0)\n",
        "\n",
        "    elif extract_numeric_part(p1[0]['document_id'] < extract_numeric_part(p2[0]['docmuent_id'])):\n",
        "      p1.pop(0)\n",
        "    else:\n",
        "      p2.pop(0)\n",
        "\n",
        "  return intersection_positional_index\n",
        "\n"
      ],
      "metadata": {
        "id": "wCzanEhQUNsW"
      },
      "execution_count": null,
      "outputs": []
    },
    {
      "cell_type": "markdown",
      "source": [
        "Preprocessing the string into tokens"
      ],
      "metadata": {
        "id": "l_ZR1RCoT_7S"
      }
    },
    {
      "cell_type": "code",
      "source": [
        "import nltk\n",
        "import string\n",
        "\n",
        "nltk.download('punkt')\n",
        "nltk.download('stopwords')\n",
        "\n",
        "from nltk.tokenize import word_tokenize\n",
        "from nltk.corpus import stopwords\n",
        "\n",
        "def preprocessing_query(query):\n",
        "    query = query.lower()\n",
        "    tokens = word_tokenize(query)\n",
        "\n",
        "    tokens = [word for word in tokens if word not in string.punctuation]\n",
        "\n",
        "    stop_words = set(stopwords.words('english'))\n",
        "    tokens = [word for word in tokens if word not in stop_words]\n",
        "\n",
        "    return tokens"
      ],
      "metadata": {
        "colab": {
          "base_uri": "https://localhost:8080/"
        },
        "id": "9OmmRu_IOllA",
        "outputId": "4a0d9dd8-66c7-4794-f187-eec9de097b58"
      },
      "execution_count": null,
      "outputs": [
        {
          "output_type": "stream",
          "name": "stderr",
          "text": [
            "[nltk_data] Downloading package punkt to /root/nltk_data...\n",
            "[nltk_data]   Unzipping tokenizers/punkt.zip.\n",
            "[nltk_data] Downloading package stopwords to /root/nltk_data...\n",
            "[nltk_data]   Unzipping corpora/stopwords.zip.\n"
          ]
        }
      ]
    },
    {
      "cell_type": "markdown",
      "source": [
        "Passing query"
      ],
      "metadata": {
        "id": "CT8pfgKaxukd"
      }
    },
    {
      "cell_type": "code",
      "source": [
        "# loading the pickled poitional inverted ubdex\n",
        "import pickle\n",
        "\n",
        "pickled_file = \"/content/drive/MyDrive/Information Retrieval/positional_inverted_index.pkl\"\n",
        "inverted_index = {}\n",
        "with open(pickled_file, 'rb') as file:\n",
        "  inverted_index = pickle.load(file)\n",
        "  print(\"Positional Inverted Index loaded\")\n",
        "\n",
        "print(\"Input phrase query : \")\n",
        "query = input()\n",
        "\n",
        "# preprocessing the query\n",
        "query_token = preprocessing_query(query)\n",
        "print(\"Preprocessed tokens : \")\n",
        "print(query_token)\n",
        "\n",
        "# passing the preprocessed tokens, to search in which document they matches\n",
        "retrieved_docuents = documents_retrieval_system(query_token, inverted_index)\n",
        "print(\"Retrieved focuments : \")\n",
        "print(retrieved_docuents)"
      ],
      "metadata": {
        "colab": {
          "base_uri": "https://localhost:8080/",
          "height": 391
        },
        "id": "cMPy2E5UxMmi",
        "outputId": "bed72651-58fc-4633-987b-93638d618448"
      },
      "execution_count": null,
      "outputs": [
        {
          "output_type": "stream",
          "name": "stdout",
          "text": [
            "Positional Inverted Index loaded\n",
            "Input phrase query : \n"
          ]
        },
        {
          "output_type": "error",
          "ename": "KeyboardInterrupt",
          "evalue": "Interrupted by user",
          "traceback": [
            "\u001b[0;31m---------------------------------------------------------------------------\u001b[0m",
            "\u001b[0;31mKeyboardInterrupt\u001b[0m                         Traceback (most recent call last)",
            "\u001b[0;32m<ipython-input-9-938fd983d049>\u001b[0m in \u001b[0;36m<cell line: 11>\u001b[0;34m()\u001b[0m\n\u001b[1;32m      9\u001b[0m \u001b[0;34m\u001b[0m\u001b[0m\n\u001b[1;32m     10\u001b[0m \u001b[0mprint\u001b[0m\u001b[0;34m(\u001b[0m\u001b[0;34m\"Input phrase query : \"\u001b[0m\u001b[0;34m)\u001b[0m\u001b[0;34m\u001b[0m\u001b[0;34m\u001b[0m\u001b[0m\n\u001b[0;32m---> 11\u001b[0;31m \u001b[0mquery\u001b[0m \u001b[0;34m=\u001b[0m \u001b[0minput\u001b[0m\u001b[0;34m(\u001b[0m\u001b[0;34m)\u001b[0m\u001b[0;34m\u001b[0m\u001b[0;34m\u001b[0m\u001b[0m\n\u001b[0m\u001b[1;32m     12\u001b[0m \u001b[0;34m\u001b[0m\u001b[0m\n\u001b[1;32m     13\u001b[0m \u001b[0;31m# preprocessing the query\u001b[0m\u001b[0;34m\u001b[0m\u001b[0;34m\u001b[0m\u001b[0m\n",
            "\u001b[0;32m/usr/local/lib/python3.10/dist-packages/ipykernel/kernelbase.py\u001b[0m in \u001b[0;36mraw_input\u001b[0;34m(self, prompt)\u001b[0m\n\u001b[1;32m    849\u001b[0m                 \u001b[0;34m\"raw_input was called, but this frontend does not support input requests.\"\u001b[0m\u001b[0;34m\u001b[0m\u001b[0;34m\u001b[0m\u001b[0m\n\u001b[1;32m    850\u001b[0m             )\n\u001b[0;32m--> 851\u001b[0;31m         return self._input_request(str(prompt),\n\u001b[0m\u001b[1;32m    852\u001b[0m             \u001b[0mself\u001b[0m\u001b[0;34m.\u001b[0m\u001b[0m_parent_ident\u001b[0m\u001b[0;34m,\u001b[0m\u001b[0;34m\u001b[0m\u001b[0;34m\u001b[0m\u001b[0m\n\u001b[1;32m    853\u001b[0m             \u001b[0mself\u001b[0m\u001b[0;34m.\u001b[0m\u001b[0m_parent_header\u001b[0m\u001b[0;34m,\u001b[0m\u001b[0;34m\u001b[0m\u001b[0;34m\u001b[0m\u001b[0m\n",
            "\u001b[0;32m/usr/local/lib/python3.10/dist-packages/ipykernel/kernelbase.py\u001b[0m in \u001b[0;36m_input_request\u001b[0;34m(self, prompt, ident, parent, password)\u001b[0m\n\u001b[1;32m    893\u001b[0m             \u001b[0;32mexcept\u001b[0m \u001b[0mKeyboardInterrupt\u001b[0m\u001b[0;34m:\u001b[0m\u001b[0;34m\u001b[0m\u001b[0;34m\u001b[0m\u001b[0m\n\u001b[1;32m    894\u001b[0m                 \u001b[0;31m# re-raise KeyboardInterrupt, to truncate traceback\u001b[0m\u001b[0;34m\u001b[0m\u001b[0;34m\u001b[0m\u001b[0m\n\u001b[0;32m--> 895\u001b[0;31m                 \u001b[0;32mraise\u001b[0m \u001b[0mKeyboardInterrupt\u001b[0m\u001b[0;34m(\u001b[0m\u001b[0;34m\"Interrupted by user\"\u001b[0m\u001b[0;34m)\u001b[0m \u001b[0;32mfrom\u001b[0m \u001b[0;32mNone\u001b[0m\u001b[0;34m\u001b[0m\u001b[0;34m\u001b[0m\u001b[0m\n\u001b[0m\u001b[1;32m    896\u001b[0m             \u001b[0;32mexcept\u001b[0m \u001b[0mException\u001b[0m \u001b[0;32mas\u001b[0m \u001b[0me\u001b[0m\u001b[0;34m:\u001b[0m\u001b[0;34m\u001b[0m\u001b[0;34m\u001b[0m\u001b[0m\n\u001b[1;32m    897\u001b[0m                 \u001b[0mself\u001b[0m\u001b[0;34m.\u001b[0m\u001b[0mlog\u001b[0m\u001b[0;34m.\u001b[0m\u001b[0mwarning\u001b[0m\u001b[0;34m(\u001b[0m\u001b[0;34m\"Invalid Message:\"\u001b[0m\u001b[0;34m,\u001b[0m \u001b[0mexc_info\u001b[0m\u001b[0;34m=\u001b[0m\u001b[0;32mTrue\u001b[0m\u001b[0;34m)\u001b[0m\u001b[0;34m\u001b[0m\u001b[0;34m\u001b[0m\u001b[0m\n",
            "\u001b[0;31mKeyboardInterrupt\u001b[0m: Interrupted by user"
          ]
        }
      ]
    },
    {
      "cell_type": "markdown",
      "source": [
        "# Note\n",
        "sorting document_id in the positional inverted in lexiicographical prrder"
      ],
      "metadata": {
        "id": "CHzKv4HAs5HF"
      }
    }
  ]
}