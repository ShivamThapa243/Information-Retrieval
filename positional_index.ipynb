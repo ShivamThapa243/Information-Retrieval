{
  "nbformat": 4,
  "nbformat_minor": 0,
  "metadata": {
    "colab": {
      "provenance": [],
      "gpuType": "T4",
      "mount_file_id": "1UnYEeocQ97-Z6IXD-b5PRtdwyx9AFZ1g",
      "authorship_tag": "ABX9TyPtamr3aWpLghGG1OvdUorf",
      "include_colab_link": true
    },
    "kernelspec": {
      "name": "python3",
      "display_name": "Python 3"
    },
    "language_info": {
      "name": "python"
    },
    "accelerator": "GPU"
  },
  "cells": [
    {
      "cell_type": "markdown",
      "metadata": {
        "id": "view-in-github",
        "colab_type": "text"
      },
      "source": [
        "<a href=\"https://colab.research.google.com/github/ShivamThapa243/Information-Retrieval/blob/main/positional_index.ipynb\" target=\"_parent\"><img src=\"https://colab.research.google.com/assets/colab-badge.svg\" alt=\"Open In Colab\"/></a>"
      ]
    },
    {
      "cell_type": "markdown",
      "source": [
        "# **POSITIONAL INVERTED INDEX**"
      ],
      "metadata": {
        "id": "uf3b75i_GyaO"
      }
    },
    {
      "cell_type": "markdown",
      "source": [
        "# Building a Positional Inverted Index"
      ],
      "metadata": {
        "id": "i5Lge0cvy1oo"
      }
    },
    {
      "cell_type": "code",
      "source": [
        "# connecting to google drive to access the preprocessed data set\n",
        "\n",
        "from google.colab import drive\n",
        "drive.mount('/content/drive')"
      ],
      "metadata": {
        "colab": {
          "base_uri": "https://localhost:8080/"
        },
        "id": "ViD8SrJiy7BS",
        "outputId": "606ba94c-bd9e-4bb6-9d6e-65c3708771ec"
      },
      "execution_count": 1,
      "outputs": [
        {
          "output_type": "stream",
          "name": "stdout",
          "text": [
            "Mounted at /content/drive\n"
          ]
        }
      ]
    },
    {
      "cell_type": "markdown",
      "source": [
        "**Structure of Positional Inverted Index:**\n",
        "\n",
        "    {\n",
        "      token_1: [\n",
        "          {\n",
        "            'document_id' : x, 'position' : [position_1, position_2, position_3]\n",
        "          },\n",
        "          {\n",
        "            'document_id' : y, 'position' : [position_4, position_5, position_6]\n",
        "          },\n",
        "          {\n",
        "            'document_id' : z, 'position' : [position_7, position_8, position_9]\n",
        "          }\n",
        "      ],\n",
        "      \"caesar\": [\n",
        "          {\n",
        "            'document_id' : 51, 'position' : [0, 7, 20]\n",
        "          },\n",
        "          {\n",
        "            'document_id' : 79, 'position' : [67, 81]\n",
        "          },\n",
        "          {\n",
        "            'document_id' : 103, 'position' : [4, 12, 51]\n",
        "          }\n",
        "      ], ...\n",
        "    }"
      ],
      "metadata": {
        "id": "5Eopt9iXzmQ0"
      }
    },
    {
      "cell_type": "markdown",
      "source": [
        "**Function to build a Positional Inverted Index**"
      ],
      "metadata": {
        "id": "jftjin8N-JES"
      }
    },
    {
      "cell_type": "code",
      "source": [
        "import os\n",
        "\n",
        "def positional_inverted_index_builder(dataset_directory):\n",
        "\n",
        "  positional_inverted_index = {}\n",
        "\n",
        "  list_of_files = os.listdir(dataset_directory)\n",
        "\n",
        "  for filename in list_of_files:\n",
        "    if filename.endswith(\".txt\"):\n",
        "      # reading each .txt file present in the directory\n",
        "      file_path = os.path.join(dataset_directory, filename)\n",
        "      with open(file_path, 'r') as file:\n",
        "        content = file.read()\n",
        "        tokens = content.split()\n",
        "\n",
        "        for position, token in enumerate(tokens):\n",
        "          if token not in positional_inverted_index:\n",
        "            positional_inverted_index[token] = [{'document_id': filename, 'positions': [position]}]\n",
        "          else:\n",
        "            # Check if the document entry already exists for this token\n",
        "            doc_entry_found = False\n",
        "            for entry in positional_inverted_index[token]:\n",
        "              if entry['document_id'] == filename:\n",
        "                entry['positions'].append(position)\n",
        "                doc_entry_found = True\n",
        "                break\n",
        "            # If the document entry was not found, add a new entry\n",
        "            if not doc_entry_found:\n",
        "              positional_inverted_index[token].append({'document_id': filename, 'positions': [position]})\n",
        "\n",
        "\n",
        "  return positional_inverted_index"
      ],
      "metadata": {
        "id": "uai1PPeYg1ML"
      },
      "execution_count": 24,
      "outputs": []
    },
    {
      "cell_type": "markdown",
      "source": [
        "**Invoking the positional_inverted_index_builder function to build the positional inverted index**"
      ],
      "metadata": {
        "id": "QtjnU3nO95hi"
      }
    },
    {
      "cell_type": "code",
      "source": [
        "# fetching the preprocessed data files\n",
        "dataset_directory = \"/content/drive/MyDrive/Information Retrieval/preprocessed_data\"\n",
        "\n",
        "# positional-inverted_index_builder function called\n",
        "positional_inverted_index = positional_inverted_index_builder(dataset_directory)\n",
        "\n",
        "directory_path = \"/content/drive/MyDrive/Information Retrieval\"\n",
        "text_file_name = \"positional_inverted_index.txt\"\n",
        "\n",
        "# writing the positional inverted index to a text file\n",
        "\n",
        "with open(os.path.join(directory_path, text_file_name), 'w') as file:\n",
        "    for term in positional_inverted_index:\n",
        "        file.write(f\"{term} : \\n\")\n",
        "        for entry in positional_inverted_index[term]:\n",
        "          file.write(f\"\\tDocument ID :  {entry['document_id']}\")\n",
        "          file.write(f\"\\tPositions : {entry['positions']}\\n\")\n",
        "        file.write(\"\\n\")\n",
        "\n",
        "print(\"Positional Inverted index created\")"
      ],
      "metadata": {
        "colab": {
          "base_uri": "https://localhost:8080/"
        },
        "id": "otlb-kNszi6g",
        "outputId": "a4ea5c36-e470-4b77-9ee7-bb7ebe32e905"
      },
      "execution_count": 30,
      "outputs": [
        {
          "output_type": "stream",
          "name": "stdout",
          "text": [
            "Positional Inverted index created\n"
          ]
        }
      ]
    }
  ]
}