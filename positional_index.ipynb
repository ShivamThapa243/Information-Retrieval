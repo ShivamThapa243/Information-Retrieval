{
  "nbformat": 4,
  "nbformat_minor": 0,
  "metadata": {
    "colab": {
      "provenance": [],
      "gpuType": "T4",
      "mount_file_id": "1UnYEeocQ97-Z6IXD-b5PRtdwyx9AFZ1g",
      "authorship_tag": "ABX9TyPqdYZPdLzfZuzRI2aOE7+Y",
      "include_colab_link": true
    },
    "kernelspec": {
      "name": "python3",
      "display_name": "Python 3"
    },
    "language_info": {
      "name": "python"
    },
    "accelerator": "GPU"
  },
  "cells": [
    {
      "cell_type": "markdown",
      "metadata": {
        "id": "view-in-github",
        "colab_type": "text"
      },
      "source": [
        "<a href=\"https://colab.research.google.com/github/ShivamThapa243/Information-Retrieval/blob/main/positional_index.ipynb\" target=\"_parent\"><img src=\"https://colab.research.google.com/assets/colab-badge.svg\" alt=\"Open In Colab\"/></a>"
      ]
    },
    {
      "cell_type": "markdown",
      "source": [
        "# Positional Inverted Index"
      ],
      "metadata": {
        "id": "uf3b75i_GyaO"
      }
    },
    {
      "cell_type": "code",
      "execution_count": 1,
      "metadata": {
        "colab": {
          "base_uri": "https://localhost:8080/"
        },
        "id": "HUze42NYDnpY",
        "outputId": "cb055291-6a7f-4bbb-d6d6-574899c13b69"
      },
      "outputs": [
        {
          "output_type": "stream",
          "name": "stdout",
          "text": [
            "Drive already mounted at /content/drive; to attempt to forcibly remount, call drive.mount(\"/content/drive\", force_remount=True).\n"
          ]
        }
      ],
      "source": [
        "# importing dataset from drive\n",
        "\n",
        "from google.colab import drive\n",
        "drive.mount('/content/drive')"
      ]
    },
    {
      "cell_type": "markdown",
      "source": [
        "*Check Point: Checking if the files are readable*"
      ],
      "metadata": {
        "id": "XdiZptKUHT06"
      }
    },
    {
      "cell_type": "code",
      "source": [
        "# accessing the dattaset\n",
        "path = \"/content/drive/MyDrive/Dataset/text_files/file1.txt\"\n",
        "with open(path, 'r') as file:\n",
        "  content = file.read()\n",
        "\n",
        "print(content)"
      ],
      "metadata": {
        "colab": {
          "base_uri": "https://localhost:8080/"
        },
        "id": "EYhURooYGOVb",
        "outputId": "b6f5bc6e-6cf5-4333-982c-a8f3f595e6dc"
      },
      "execution_count": 2,
      "outputs": [
        {
          "output_type": "stream",
          "name": "stdout",
          "text": [
            "Loving these vintage springs on my vintage strat. They have a good tension and great stability. If you are floating your bridge and want the most out of your springs than these are the way to go.\n"
          ]
        }
      ]
    },
    {
      "cell_type": "markdown",
      "source": [
        "**Function definitions (include preprocessing functions)**"
      ],
      "metadata": {
        "id": "L9rC0MdupFwU"
      }
    },
    {
      "cell_type": "code",
      "source": [
        "from types import new_class\n",
        "def preprocessing(document):\n",
        "  # 1. converting the string into lowercase and removing meta-tags\n",
        "  content = document.lower()\n",
        "  content = metadata_remover(content)\n",
        "\n",
        "  # 2. converting string into tokens\n",
        "  token_array = tokenizer_function(content)\n",
        "\n",
        "  # 3. removing stopwords\n",
        "  token_array = stopwords_remover_funtion(token_array)\n",
        "\n",
        "  # 4. Punctuation remover function\n",
        "  token_array = punctuation_remover_function(token_array)\n",
        "\n",
        "  # 5. converting token array to string,\n",
        "  # so that it can be stored as a string in the text file\n",
        "  preprocessed_tokens = stringfy_token_array(token_array)\n",
        "\n",
        "  # 6. removing extra spaces\n",
        "  preprocessed_tokens = ' '.join(preprocessed_tokens.split())\n",
        "\n",
        "  return preprocessed_tokens\n",
        "# end of functtion\n",
        "\n",
        "\n",
        "# function to convert the string into lower case and no meta data\n",
        "def metadata_remover(content):\n",
        "  tag = False\n",
        "  quote = False\n",
        "  str = \"\"\n",
        "  for ch in content:\n",
        "    if ch == '<' and not quote:\n",
        "      tag = True\n",
        "    elif ch == '>' and not quote:\n",
        "      tag = False\n",
        "    elif (ch == '\"' or ch == \"'\") and tag:\n",
        "      quote = not quote\n",
        "    elif not tag:\n",
        "      str = str + ch\n",
        "\n",
        "  return str\n",
        "# end of function\n",
        "\n",
        "# function to convert string into tokens\n",
        "def tokenizer_function(content):\n",
        "  token_array = content.split()\n",
        "  return token_array\n",
        "# end of function\n",
        "\n",
        "# funtion to remove stopwords from the token array\n",
        "def stopwords_remover_funtion(token_array):\n",
        "  stopwords = {'i', 'me', 'my', 'myself', 'we', 'our', 'ours', 'ourselves', 'you', \"you're\", \"you've\", \"you'll\",\n",
        "                 \"you'd\", 'your', 'yours', 'yourself', 'yourselves', 'he', 'him', 'his', 'himself', 'she', \"she's\",\n",
        "                 'her', 'hers', 'herself', 'it', \"it's\", 'its', 'itself', 'they', 'them', 'their', 'theirs',\n",
        "                 'themselves', 'what', 'which', 'who', 'whom', 'this', 'that', \"that'll\", 'these', 'those', 'am', 'is',\n",
        "                 'are', 'was', 'were', 'be', 'been', 'being', 'have', 'has', 'had', 'having', 'do', 'does', 'did',\n",
        "                 'doing', 'a', 'an', 'the', 'and', 'but', 'if', 'or', 'because', 'as', 'until', 'while', 'of', 'at',\n",
        "                 'by', 'for', 'with', 'about', 'against', 'between', 'into', 'through', 'during', 'before', 'after',\n",
        "                 'above', 'below', 'to', 'from', 'up', 'down', 'in', 'out', 'on', 'off', 'over', 'under', 'again',\n",
        "                 'further', 'then', 'once', 'here', 'there', 'when', 'where', 'why', 'how', 'all', 'any', 'both',\n",
        "                 'each', 'few', 'more', 'most', 'other', 'some', 'such', 'no', 'nor', 'not', 'only', 'own', 'same',\n",
        "                 'so', 'than', 'too', 'very', 's', 't', 'can', 'will', 'just', 'don', \"don't\", 'should', \"should've\",\n",
        "                 'now', 'd', 'll', 'm', 'o', 're', 've', 'y', 'ain', 'aren', \"aren't\", 'couldn', \"couldn't\", 'didn',\n",
        "                 \"didn't\", 'doesn', \"doesn't\", 'hadn', \"hadn't\", 'hasn', \"hasn't\", 'haven', \"haven't\", 'isn', \"isn't\",\n",
        "                 'ma', 'mightn', \"mightn't\", 'mustn', \"mustn't\", 'needn', \"needn't\", 'shan', \"shan't\", 'shouldn',\n",
        "                 \"shouldn't\", 'wasn', \"wasn't\", 'weren', \"weren't\", 'won', \"won't\", 'wouldn', \"wouldn't\"}\n",
        "  new_array = []\n",
        "  for token in token_array:\n",
        "    if token in stopwords:\n",
        "      continue\n",
        "    else:\n",
        "      new_array.append(token)\n",
        "  return new_array\n",
        "# end of funtion\n",
        "\n",
        "# funtion to remove punctuation\n",
        "def punctuation_remover_function(token_array):\n",
        "  new_token = []\n",
        "  puntuation = {'.', '?', '!', ',', ';', ':', '\\'', '\\\"', '-', '_', ')', '(', '[', ']', '{', '}', '<', '>', '=', '/', '\\\\', '*', '#' }\n",
        "  for token in token_array:\n",
        "    temp = \"\"\n",
        "    for ch in token:\n",
        "      if  ch in puntuation:\n",
        "        temp += \" \"\n",
        "      else:\n",
        "        temp += ch\n",
        "    new_token.append(temp)\n",
        "  return new_token\n",
        "#end of function\n",
        "\n",
        "# function to convert token array into string\n",
        "def stringfy_token_array(token_array):\n",
        "  token_string = \"\"\n",
        "  token_string = ' '.join(token_array)\n",
        "  return token_string\n",
        "# end of function"
      ],
      "metadata": {
        "id": "Kw3QIKqapFT9"
      },
      "execution_count": 3,
      "outputs": []
    },
    {
      "cell_type": "markdown",
      "source": [
        "*Check Point: Checking if the preprocessing stage is working fine*"
      ],
      "metadata": {
        "id": "uLazDVQtyJjX"
      }
    },
    {
      "cell_type": "code",
      "source": [
        "val = \"Loving these vintage springs on my vintage strat. They have a good tension and great stability. If you are floating your bridge and want the most out of your springs than these are the way to go.\"\n",
        "print(val)\n",
        "print(preprocessing(val))"
      ],
      "metadata": {
        "colab": {
          "base_uri": "https://localhost:8080/"
        },
        "id": "U9oZkAW5MClQ",
        "outputId": "8ec2a37b-e192-4dfa-91e5-9121f11dd40c"
      },
      "execution_count": 4,
      "outputs": [
        {
          "output_type": "stream",
          "name": "stdout",
          "text": [
            "Loving these vintage springs on my vintage strat. They have a good tension and great stability. If you are floating your bridge and want the most out of your springs than these are the way to go.\n",
            "loving vintage springs vintage strat good tension great stability floating bridge want springs way go\n"
          ]
        }
      ]
    },
    {
      "cell_type": "markdown",
      "source": [
        "**Preprocessing the file content and storing in a new directory**"
      ],
      "metadata": {
        "id": "_bi24OpNBHrR"
      }
    },
    {
      "cell_type": "code",
      "source": [
        "import os\n",
        "\n",
        "directory_path = \"/content/drive/MyDrive/Dataset/text_files\"\n",
        "preprocessed_directory = \"/content/drive/MyDrive/Preprocessed-Dataset\"\n",
        "# Create the preprocessed directory if it doesn't exist\n",
        "os.makedirs(preprocessed_directory, exist_ok= True)\n",
        "\n",
        "# List all files in the directory, excluding subdirectories\n",
        "file_list = os.listdir(directory_path)\n",
        "\n",
        "print(f\"Files to process: {file_list}\")\n",
        "\n",
        "# iterating through the dataset and preprocessing each file present in the directory\n",
        "for filename in file_list:\n",
        "  file_path = os.path.join(directory_path, filename)\n",
        "  # reading the original content of the dataset\n",
        "  with open(file_path, 'r') as file:\n",
        "    content = file.read()\n",
        "\n",
        "  # preprocessing the original document\n",
        "  preprocessed_content = preprocessing(content)\n",
        "\n",
        "  # writing/ storing the preprocessed_content into the newly created directory\n",
        "  preprocessed_file_path = os.path.join(preprocessed_directory, filename)\n",
        "  with open(preprocessed_file_path, 'w') as preprocessed_file:\n",
        "    preprocessed_file.write(preprocessed_content)\n",
        "#end of for loop"
      ],
      "metadata": {
        "id": "xTQzUeplnIli",
        "colab": {
          "base_uri": "https://localhost:8080/"
        },
        "outputId": "59b4bebb-6bf6-428e-9fcb-fccb59875c6b"
      },
      "execution_count": 5,
      "outputs": [
        {
          "output_type": "stream",
          "name": "stdout",
          "text": [
            "Files to process: ['file223.txt', 'file761.txt', 'file14.txt', 'file265.txt', 'file949.txt', 'file365.txt', 'file970.txt', 'file740.txt', 'file249.txt', 'file982.txt', 'file554.txt', 'file728.txt', 'file568.txt', 'file797.txt', 'file938.txt', 'file41.txt', 'file956.txt', 'file891.txt', 'file503.txt', 'file218.txt', 'file237.txt', 'file316.txt', 'file224.txt', 'file674.txt', 'file92.txt', 'file603.txt', 'file817.txt', 'file109.txt', 'file709.txt', 'file304.txt', 'file784.txt', 'file405.txt', 'file487.txt', 'file841.txt', 'file736.txt', 'file924.txt', 'file807.txt', 'file52.txt', 'file847.txt', 'file913.txt', 'file389.txt', 'file813.txt', 'file253.txt', 'file352.txt', 'file471.txt', 'file921.txt', 'file25.txt', 'file142.txt', 'file587.txt', 'file570.txt', 'file412.txt', 'file888.txt', 'file542.txt', 'file991.txt', 'file126.txt', 'file735.txt', 'file119.txt', 'file343.txt', 'file945.txt', 'file574.txt', 'file756.txt', 'file540.txt', 'file174.txt', 'file942.txt', 'file967.txt', 'file638.txt', 'file278.txt', 'file771.txt', 'file86.txt', 'file742.txt', 'file131.txt', 'file708.txt', 'file420.txt', 'file374.txt', 'file73.txt', 'file372.txt', 'file992.txt', 'file147.txt', 'file448.txt', 'file275.txt', 'file13.txt', 'file533.txt', 'file414.txt', 'file302.txt', 'file347.txt', 'file643.txt', 'file500.txt', 'file937.txt', 'file808.txt', 'file446.txt', 'file264.txt', 'file4.txt', 'file250.txt', 'file260.txt', 'file425.txt', 'file552.txt', 'file845.txt', 'file705.txt', 'file940.txt', 'file195.txt', 'file593.txt', 'file44.txt', 'file904.txt', 'file128.txt', 'file943.txt', 'file240.txt', 'file571.txt', 'file55.txt', 'file366.txt', 'file11.txt', 'file760.txt', 'file649.txt', 'file239.txt', 'file345.txt', 'file87.txt', 'file209.txt', 'file984.txt', 'file229.txt', 'file788.txt', 'file750.txt', 'file695.txt', 'file530.txt', 'file284.txt', 'file65.txt', 'file393.txt', 'file456.txt', 'file82.txt', 'file283.txt', 'file820.txt', 'file892.txt', 'file581.txt', 'file33.txt', 'file477.txt', 'file413.txt', 'file663.txt', 'file953.txt', 'file172.txt', 'file439.txt', 'file235.txt', 'file367.txt', 'file920.txt', 'file144.txt', 'file105.txt', 'file946.txt', 'file272.txt', 'file510.txt', 'file660.txt', 'file200.txt', 'file653.txt', 'file856.txt', 'file490.txt', 'file188.txt', 'file711.txt', 'file280.txt', 'file562.txt', 'file623.txt', 'file758.txt', 'file23.txt', 'file916.txt', 'file310.txt', 'file698.txt', 'file829.txt', 'file15.txt', 'file821.txt', 'file583.txt', 'file336.txt', 'file359.txt', 'file216.txt', 'file928.txt', 'file468.txt', 'file364.txt', 'file951.txt', 'file720.txt', 'file867.txt', 'file114.txt', 'file704.txt', 'file617.txt', 'file139.txt', 'file222.txt', 'file809.txt', 'file243.txt', 'file633.txt', 'file344.txt', 'file58.txt', 'file411.txt', 'file875.txt', 'file752.txt', 'file775.txt', 'file985.txt', 'file176.txt', 'file124.txt', 'file548.txt', 'file396.txt', 'file651.txt', 'file800.txt', 'file981.txt', 'file362.txt', 'file532.txt', 'file482.txt', 'file409.txt', 'file983.txt', 'file70.txt', 'file861.txt', 'file866.txt', 'file882.txt', 'file313.txt', 'file836.txt', 'file802.txt', 'file232.txt', 'file774.txt', 'file780.txt', 'file936.txt', 'file327.txt', 'file288.txt', 'file308.txt', 'file806.txt', 'file159.txt', 'file75.txt', 'file690.txt', 'file341.txt', 'file988.txt', 'file824.txt', 'file854.txt', 'file712.txt', 'file156.txt', 'file524.txt', 'file35.txt', 'file529.txt', 'file436.txt', 'file960.txt', 'file851.txt', 'file648.txt', 'file682.txt', 'file844.txt', 'file451.txt', 'file354.txt', 'file314.txt', 'file66.txt', 'file962.txt', 'file618.txt', 'file764.txt', 'file667.txt', 'file219.txt', 'file727.txt', 'file115.txt', 'file575.txt', 'file917.txt', 'file106.txt', 'file974.txt', 'file874.txt', 'file127.txt', 'file898.txt', 'file693.txt', 'file932.txt', 'file441.txt', 'file474.txt', 'file460.txt', 'file832.txt', 'file379.txt', 'file6.txt', 'file738.txt', 'file196.txt', 'file34.txt', 'file798.txt', 'file432.txt', 'file842.txt', 'file85.txt', 'file427.txt', 'file751.txt', 'file435.txt', 'file348.txt', 'file997.txt', 'file515.txt', 'file397.txt', 'file545.txt', 'file572.txt', 'file977.txt', 'file565.txt', 'file957.txt', 'file739.txt', 'file407.txt', 'file818.txt', 'file251.txt', 'file485.txt', 'file117.txt', 'file5.txt', 'file454.txt', 'file952.txt', 'file382.txt', 'file422.txt', 'file207.txt', 'file168.txt', 'file535.txt', 'file710.txt', 'file480.txt', 'file912.txt', 'file685.txt', 'file49.txt', 'file262.txt', 'file162.txt', 'file267.txt', 'file377.txt', 'file933.txt', 'file104.txt', 'file627.txt', 'file965.txt', 'file447.txt', 'file657.txt', 'file586.txt', 'file864.txt', 'file268.txt', 'file77.txt', 'file72.txt', 'file93.txt', 'file654.txt', 'file579.txt', 'file107.txt', 'file384.txt', 'file609.txt', 'file678.txt', 'file328.txt', 'file881.txt', 'file702.txt', 'file476.txt', 'file523.txt', 'file248.txt', 'file509.txt', 'file872.txt', 'file252.txt', 'file723.txt', 'file753.txt', 'file719.txt', 'file326.txt', 'file445.txt', 'file394.txt', 'file979.txt', 'file909.txt', 'file737.txt', 'file996.txt', 'file123.txt', 'file714.txt', 'file588.txt', 'file689.txt', 'file403.txt', 'file203.txt', 'file569.txt', 'file850.txt', 'file311.txt', 'file828.txt', 'file885.txt', 'file276.txt', 'file440.txt', 'file696.txt', 'file96.txt', 'file789.txt', 'file9.txt', 'file887.txt', 'file88.txt', 'file323.txt', 'file395.txt', 'file183.txt', 'file334.txt', 'file465.txt', 'file185.txt', 'file837.txt', 'file303.txt', 'file151.txt', 'file541.txt', 'file646.txt', 'file537.txt', 'file805.txt', 'file899.txt', 'file911.txt', 'file220.txt', 'file242.txt', 'file263.txt', 'file370.txt', 'file261.txt', 'file662.txt', 'file319.txt', 'file993.txt', 'file955.txt', 'file536.txt', 'file84.txt', 'file998.txt', 'file312.txt', 'file799.txt', 'file661.txt', 'file68.txt', 'file437.txt', 'file94.txt', 'file431.txt', 'file190.txt', 'file520.txt', 'file43.txt', 'file255.txt', 'file990.txt', 'file959.txt', 'file907.txt', 'file318.txt', 'file640.txt', 'file339.txt', 'file279.txt', 'file681.txt', 'file823.txt', 'file790.txt', 'file747.txt', 'file613.txt', 'file160.txt', 'file561.txt', 'file578.txt', 'file132.txt', 'file922.txt', 'file749.txt', 'file840.txt', 'file198.txt', 'file655.txt', 'file852.txt', 'file48.txt', 'file863.txt', 'file138.txt', 'file637.txt', 'file8.txt', 'file964.txt', 'file483.txt', 'file517.txt', 'file296.txt', 'file785.txt', 'file833.txt', 'file559.txt', 'file659.txt', 'file726.txt', 'file731.txt', 'file511.txt', 'file724.txt', 'file16.txt', 'file754.txt', 'file194.txt', 'file130.txt', 'file513.txt', 'file801.txt', 'file794.txt', 'file137.txt', 'file622.txt', 'file191.txt', 'file353.txt', 'file792.txt', 'file512.txt', 'file534.txt', 'file607.txt', 'file514.txt', 'file76.txt', 'file919.txt', 'file30.txt', 'file40.txt', 'file505.txt', 'file590.txt', 'file74.txt', 'file986.txt', 'file271.txt', 'file133.txt', 'file931.txt', 'file703.txt', 'file398.txt', 'file153.txt', 'file59.txt', 'file416.txt', 'file816.txt', 'file338.txt', 'file781.txt', 'file7.txt', 'file152.txt', 'file994.txt', 'file645.txt', 'file626.txt', 'file350.txt', 'file582.txt', 'file642.txt', 'file804.txt', 'file669.txt', 'file602.txt', 'file636.txt', 'file493.txt', 'file641.txt', 'file980.txt', 'file21.txt', 'file401.txt', 'file315.txt', 'file664.txt', 'file80.txt', 'file415.txt', 'file273.txt', 'file857.txt', 'file826.txt', 'file182.txt', 'file46.txt', 'file479.txt', 'file28.txt', 'file178.txt', 'file944.txt', 'file357.txt', 'file67.txt', 'file843.txt', 'file987.txt', 'file778.txt', 'file879.txt', 'file631.txt', 'file231.txt', 'file786.txt', 'file577.txt', 'file373.txt', 'file971.txt', 'file317.txt', 'file501.txt', 'file635.txt', 'file385.txt', 'file647.txt', 'file349.txt', 'file208.txt', 'file768.txt', 'file197.txt', 'file853.txt', 'file558.txt', 'file324.txt', 'file596.txt', 'file604.txt', 'file531.txt', 'file556.txt', 'file102.txt', 'file287.txt', 'file458.txt', 'file787.txt', 'file846.txt', 'file155.txt', 'file573.txt', 'file694.txt', 'file621.txt', 'file576.txt', 'file508.txt', 'file443.txt', 'file371.txt', 'file746.txt', 'file257.txt', 'file361.txt', 'file307.txt', 'file860.txt', 'file449.txt', 'file31.txt', 'file555.txt', 'file351.txt', 'file869.txt', 'file713.txt', 'file277.txt', 'file803.txt', 'file360.txt', 'file550.txt', 'file113.txt', 'file683.txt', 'file461.txt', 'file89.txt', 'file488.txt', 'file1.txt', 'file358.txt', 'file459.txt', 'file624.txt', 'file601.txt', 'file701.txt', 'file757.txt', 'file120.txt', 'file906.txt', 'file322.txt', 'file213.txt', 'file270.txt', 'file408.txt', 'file791.txt', 'file591.txt', 'file716.txt', 'file103.txt', 'file929.txt', 'file730.txt', 'file290.txt', 'file161.txt', 'file83.txt', 'file63.txt', 'file733.txt', 'file973.txt', 'file877.txt', 'file599.txt', 'file157.txt', 'file378.txt', 'file462.txt', 'file783.txt', 'file177.txt', 'file404.txt', 'file247.txt', 'file486.txt', 'file743.txt', 'file870.txt', 'file402.txt', 'file136.txt', 'file999.txt', 'file958.txt', 'file99.txt', 'file900.txt', 'file896.txt', 'file525.txt', 'file777.txt', 'file173.txt', 'file418.txt', 'file560.txt', 'file187.txt', 'file969.txt', 'file241.txt', 'file438.txt', 'file935.txt', 'file522.txt', 'file217.txt', 'file502.txt', 'file292.txt', 'file950.txt', 'file45.txt', 'file368.txt', 'file210.txt', 'file741.txt', 'file831.txt', 'file715.txt', 'file259.txt', 'file734.txt', 'file330.txt', 'file718.txt', 'file37.txt', 'file795.txt', 'file915.txt', 'file481.txt', 'file18.txt', 'file201.txt', 'file140.txt', 'file141.txt', 'file90.txt', 'file27.txt', 'file293.txt', 'file214.txt', 'file340.txt', 'file732.txt', 'file605.txt', 'file186.txt', 'file464.txt', 'file386.txt', 'file71.txt', 'file149.txt', 'file871.txt', 'file796.txt', 'file968.txt', 'file381.txt', 'file181.txt', 'file782.txt', 'file383.txt', 'file472.txt', 'file269.txt', 'file110.txt', 'file299.txt', 'file434.txt', 'file356.txt', 'file274.txt', 'file608.txt', 'file473.txt', 'file244.txt', 'file469.txt', 'file60.txt', 'file878.txt', 'file289.txt', 'file300.txt', 'file135.txt', 'file614.txt', 'file629.txt', 'file246.txt', 'file563.txt', 'file615.txt', 'file95.txt', 'file478.txt', 'file889.txt', 'file42.txt', 'file600.txt', 'file421.txt', 'file989.txt', 'file12.txt', 'file423.txt', 'file53.txt', 'file202.txt', 'file230.txt', 'file504.txt', 'file98.txt', 'file145.txt', 'file680.txt', 'file765.txt', 'file692.txt', 'file886.txt', 'file234.txt', 'file184.txt', 'file849.txt', 'file399.txt', 'file258.txt', 'file978.txt', 'file963.txt', 'file400.txt', 'file226.txt', 'file150.txt', 'file594.txt', 'file433.txt', 'file941.txt', 'file838.txt', 'file883.txt', 'file204.txt', 'file57.txt', 'file306.txt', 'file10.txt', 'file606.txt', 'file644.txt', 'file830.txt', 'file745.txt', 'file238.txt', 'file79.txt', 'file475.txt', 'file320.txt', 'file100.txt', 'file584.txt', 'file355.txt', 'file549.txt', 'file236.txt', 'file834.txt', 'file763.txt', 'file112.txt', 'file518.txt', 'file905.txt', 'file494.txt', 'file506.txt', 'file256.txt', 'file193.txt', 'file167.txt', 'file876.txt', 'file619.txt', 'file700.txt', 'file939.txt', 'file380.txt', 'file688.txt', 'file976.txt', 'file755.txt', 'file961.txt', 'file611.txt', 'file291.txt', 'file221.txt', 'file585.txt', 'file975.txt', 'file450.txt', 'file632.txt', 'file452.txt', 'file893.txt', 'file294.txt', 'file894.txt', 'file539.txt', 'file392.txt', 'file895.txt', 'file652.txt', 'file597.txt', 'file467.txt', 'file873.txt', 'file910.txt', 'file38.txt', 'file580.txt', 'file766.txt', 'file164.txt', 'file3.txt', 'file146.txt', 'file551.txt', 'file118.txt', 'file489.txt', 'file658.txt', 'file684.txt', 'file677.txt', 'file557.txt', 'file934.txt', 'file442.txt', 'file610.txt', 'file143.txt', 'file457.txt', 'file20.txt', 'file616.txt', 'file666.txt', 'file839.txt', 'file687.txt', 'file165.txt', 'file158.txt', 'file564.txt', 'file567.txt', 'file553.txt', 'file228.txt', 'file426.txt', 'file335.txt', 'file192.txt', 'file620.txt', 'file116.txt', 'file111.txt', 'file966.txt', 'file822.txt', 'file169.txt', 'file61.txt', 'file884.txt', 'file498.txt', 'file819.txt', 'file212.txt', 'file121.txt', 'file855.txt', 'file463.txt', 'file26.txt', 'file972.txt', 'file848.txt', 'file717.txt', 'file868.txt', 'file78.txt', 'file282.txt', 'file346.txt', 'file954.txt', 'file725.txt', 'file827.txt', 'file301.txt', 'file769.txt', 'file519.txt', 'file543.txt', 'file496.txt', 'file628.txt', 'file419.txt', 'file516.txt', 'file332.txt', 'file686.txt', 'file499.txt', 'file54.txt', 'file770.txt', 'file748.txt', 'file391.txt', 'file634.txt', 'file29.txt', 'file39.txt', 'file309.txt', 'file914.txt', 'file811.txt', 'file779.txt', 'file901.txt', 'file36.txt', 'file722.txt', 'file171.txt', 'file507.txt', 'file670.txt', 'file484.txt', 'file497.txt', 'file148.txt', 'file101.txt', 'file19.txt', 'file810.txt', 'file862.txt', 'file927.txt', 'file762.txt', 'file656.txt', 'file699.txt', 'file947.txt', 'file491.txt', 'file639.txt', 'file707.txt', 'file815.txt', 'file691.txt', 'file406.txt', 'file592.txt', 'file298.txt', 'file528.txt', 'file729.txt', 'file325.txt', 'file547.txt', 'file17.txt', 'file676.txt', 'file859.txt', 'file254.txt', 'file180.txt', 'file62.txt', 'file329.txt', 'file673.txt', 'file233.txt', 'file923.txt', 'file835.txt', 'file675.txt', 'file24.txt', 'file672.txt', 'file429.txt', 'file679.txt', 'file163.txt', 'file625.txt', 'file417.txt', 'file285.txt', 'file650.txt', 'file925.txt', 'file388.txt', 'file466.txt', 'file444.txt', 'file665.txt', 'file495.txt', 'file948.txt', 'file375.txt', 'file706.txt', 'file544.txt', 'file865.txt', 'file125.txt', 'file612.txt', 'file245.txt', 'file129.txt', 'file363.txt', 'file64.txt', 'file51.txt', 'file170.txt', 'file521.txt', 'file166.txt', 'file154.txt', 'file930.txt', 'file424.txt', 'file333.txt', 'file566.txt', 'file387.txt', 'file668.txt', 'file342.txt', 'file671.txt', 'file175.txt', 'file428.txt', 'file880.txt', 'file858.txt', 'file305.txt', 'file527.txt', 'file337.txt', 'file97.txt', 'file69.txt', 'file2.txt', 'file793.txt', 'file295.txt', 'file369.txt', 'file589.txt', 'file47.txt', 'file995.txt', 'file744.txt', 'file772.txt', 'file721.txt', 'file697.txt', 'file205.txt', 'file56.txt', 'file630.txt', 'file926.txt', 'file134.txt', 'file546.txt', 'file776.txt', 'file179.txt', 'file595.txt', 'file22.txt', 'file812.txt', 'file286.txt', 'file50.txt', 'file266.txt', 'file189.txt', 'file122.txt', 'file598.txt', 'file281.txt', 'file767.txt', 'file825.txt', 'file430.txt', 'file227.txt', 'file814.txt', 'file526.txt', 'file759.txt', 'file897.txt', 'file390.txt', 'file908.txt', 'file538.txt', 'file453.txt', 'file455.txt', 'file91.txt', 'file215.txt', 'file492.txt', 'file81.txt', 'file211.txt', 'file321.txt', 'file32.txt', 'file902.txt', 'file199.txt', 'file890.txt', 'file918.txt', 'file297.txt', 'file470.txt', 'file410.txt', 'file225.txt', 'file903.txt', 'file108.txt', 'file773.txt', 'file206.txt', 'file376.txt', 'file331.txt']\n"
          ]
        }
      ]
    },
    {
      "cell_type": "markdown",
      "source": [
        "Printing 5 Original documents before and after preprocessing"
      ],
      "metadata": {
        "id": "gOqoGDkb_jph"
      }
    },
    {
      "cell_type": "code",
      "source": [
        "preprocessed_directory_path = \"/content/drive/MyDrive/Preprocessed-Dataset\"\n",
        "preprocessed_file_list = os.listdir(preprocessed_directory_path)\n",
        "\n",
        "file_count = 1\n",
        "\n",
        "for filename in preprocessed_file_list:\n",
        "  if file_count > 5:\n",
        "    break\n",
        "\n",
        "  preprocessed_file_path = os.path.join(preprocessed_directory_path, filename)\n",
        "  with open(preprocessed_file_path, 'r') as file:\n",
        "    preprocessed_content = file.read()\n",
        "\n",
        "  print(file_count, f\" {filename}\")\n",
        "  print(preprocessed_content, \"\\n\")\n",
        "  file_count += 1"
      ],
      "metadata": {
        "colab": {
          "base_uri": "https://localhost:8080/"
        },
        "id": "lwmSr5DD_hxy",
        "outputId": "afae9712-7399-4f1a-ad83-c4b1d6ddbc9c"
      },
      "execution_count": 7,
      "outputs": [
        {
          "output_type": "stream",
          "name": "stdout",
          "text": [
            "1  file732.txt\n",
            "tha best leads \n",
            "\n",
            "2  file214.txt\n",
            "lot reviews divided oh sounds great sounds like s ty gong come mind bought anyways definitely cheap buy still looks like amazing cymbal sound sound pretty crappy still great buy beginner drummers drummer like jam basements garage start get gig two consider going better cymbal update i ve cymbal 1 5 years cracked point can t play anymore likely way i ve hitting it crappy manufacturing look old review think bit critical i ve grown love bright sound cymbal probably buy another one \n",
            "\n",
            "3  file605.txt\n",
            "application plug three guitars pedalboard see pics noiseless shows tone sucking qualities all runs well 9 volt dunlop dc brick although function lights also works power but lights come handy know selection on \n",
            "\n",
            "4  file90.txt\n",
            "solid strap used strat nice flashy fits style well works well solidly made worries guitar going come playing i ve taken shots poly locks check mechanism pretty nice definitely want last good long while \n",
            "\n",
            "5  file186.txt\n",
            "bought two kits total six guitar stand holders know they re described acoustic holders i m using hold heavy fender precision bass standard electric guitars they re easy install others written use fasteners come kit cheaply made unsafe simply stopped walmart picked couple packs self drilling drywall anchors pictured they re inexpensive fasteners helped make installation breeze able install six guitar stands 30 minutes highly recommend product long use upgraded fasteners \n",
            "\n"
          ]
        }
      ]
    }
  ]
}