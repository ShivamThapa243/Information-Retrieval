{
  "nbformat": 4,
  "nbformat_minor": 0,
  "metadata": {
    "colab": {
      "provenance": [],
      "authorship_tag": "ABX9TyMVC7/cHdyTohTk6OY7cLsc",
      "include_colab_link": true
    },
    "kernelspec": {
      "name": "python3",
      "display_name": "Python 3"
    },
    "language_info": {
      "name": "python"
    }
  },
  "cells": [
    {
      "cell_type": "markdown",
      "metadata": {
        "id": "view-in-github",
        "colab_type": "text"
      },
      "source": [
        "<a href=\"https://colab.research.google.com/github/ShivamThapa243/Information-Retrieval/blob/main/unigram_inverted_index.ipynb\" target=\"_parent\"><img src=\"https://colab.research.google.com/assets/colab-badge.svg\" alt=\"Open In Colab\"/></a>"
      ]
    },
    {
      "cell_type": "markdown",
      "source": [
        "# UNIGRAM INVERTED INDEX\n",
        "\n"
      ],
      "metadata": {
        "id": "jyfiLkRMO8B5"
      }
    },
    {
      "cell_type": "markdown",
      "source": [
        "\n",
        "\n",
        "**1. Building Unigram Inverted Index**\n",
        "\n",
        "---\n",
        "\n",
        "\n",
        "\n"
      ],
      "metadata": {
        "id": "ZZ1G8EOl-_QW"
      }
    },
    {
      "cell_type": "code",
      "execution_count": 24,
      "metadata": {
        "id": "7eGwA0lqOwVZ",
        "colab": {
          "base_uri": "https://localhost:8080/"
        },
        "outputId": "0b51f7ed-20ad-451b-afa0-350c7e4462ea"
      },
      "outputs": [
        {
          "output_type": "stream",
          "name": "stdout",
          "text": [
            "Drive already mounted at /content/drive; to attempt to forcibly remount, call drive.mount(\"/content/drive\", force_remount=True).\n"
          ]
        }
      ],
      "source": [
        "# importing files from drive\n",
        "\n",
        "from google.colab import drive\n",
        "drive.mount('/content/drive')"
      ]
    },
    {
      "cell_type": "markdown",
      "source": [
        "**Function to build an unigram inverted index**\n",
        "\n",
        "Structure of inverted index:\n",
        "*   word1: {counts: x, documents: [doc1, dox2, doc3...]}\n",
        "*   word2: {counts: y, documents: [doc3, doc4, doc5...]}\n",
        "*   ...\n",
        "\n",
        "\n",
        "    "
      ],
      "metadata": {
        "id": "j7t4dLlkaMZG"
      }
    },
    {
      "cell_type": "code",
      "source": [
        "import os\n",
        "\n",
        "def unigram_inverted_index_builder(dataset_directory):\n",
        "  unigram_inverted_index = {}\n",
        "  list_file = os.listdir(dataset_directory)\n",
        "\n",
        "  # Iterating through each file present in the directory\n",
        "  for filename in list_file:\n",
        "    if filename.endswith(\".txt\"):\n",
        "      # Reading the content of the file\n",
        "      file_path = os.path.join(dataset_directory, filename)\n",
        "      with open(file_path, 'r') as file:\n",
        "        content = file.read()\n",
        "\n",
        "      # tokenizing the documnet to get unique tokens\n",
        "      content_list = content.split()\n",
        "      unique_content = set(content_list)\n",
        "\n",
        "      # Updating the unigram inverted index\n",
        "      for token in unique_content:\n",
        "        # if the token is already in the inverted_index\n",
        "        if token in unigram_inverted_index:\n",
        "          unigram_inverted_index[token]['count'] += 1\n",
        "          if filename not in unigram_inverted_index[token]['documents']:\n",
        "            unigram_inverted_index[token]['documents'].append(filename)\n",
        "        else:\n",
        "          unigram_inverted_index[token] = {'count' : 1, 'documents': [filename]}\n",
        "  return unigram_inverted_index\n"
      ],
      "metadata": {
        "id": "LduAmbNE6wFK"
      },
      "execution_count": 25,
      "outputs": []
    },
    {
      "cell_type": "markdown",
      "source": [
        "**Invoking the unigram_inverted_index_builder function to build the inverted index**"
      ],
      "metadata": {
        "id": "LmVXAr25nggM"
      }
    },
    {
      "cell_type": "code",
      "source": [
        "# location of preprocessed data set which is stored in the google drive\n",
        "dataset_directory = \"/content/drive/MyDrive/Information Retrieval/preprocessed_data\"\n",
        "\n",
        "# calling the builder function by passing the data set location\n",
        "unigram_inverted_index = unigram_inverted_index_builder(dataset_directory)\n",
        "\n",
        "# storing the newely generated unigram inverted index into a new text file\n",
        "directory_name = \"/content/drive/MyDrive/Information Retrieval\"\n",
        "text_file_name = \"unigram_inverted_index_dataset.txt\"\n",
        "text_file = os.path.join(directory_name, text_file_name)\n",
        "\n",
        "with open(text_file, 'w') as file:\n",
        "  for term, info in unigram_inverted_index.items():\n",
        "    file.write(f\"{term}: {info}\\n\")\n",
        "\n",
        "print(\"Unigram inverted index created\")"
      ],
      "metadata": {
        "colab": {
          "base_uri": "https://localhost:8080/"
        },
        "id": "PUzZjL0vY2Ar",
        "outputId": "40c67a17-d4eb-4b0d-d81a-2f2c47f765f3"
      },
      "execution_count": 26,
      "outputs": [
        {
          "output_type": "stream",
          "name": "stdout",
          "text": [
            "Unigram inverted index created\n"
          ]
        }
      ]
    },
    {
      "cell_type": "markdown",
      "source": [
        "**Sorting the inverted index in lexicographical order**"
      ],
      "metadata": {
        "id": "vmy-QBX0A_vm"
      }
    },
    {
      "cell_type": "code",
      "source": [
        "# sorting the earlier generated unigram inverted index\n",
        "sorted_items = sorted(unigram_inverted_index.items(), key = lambda x : x[0])\n",
        "sorted_inverted_index = dict(sorted_items)\n",
        "\n",
        "# storing the sorted inverted index into a new text file\n",
        "sorted_text_file_name = \"sorted_unigram_inverted_index_dataset.txt\"\n",
        "sorted_text_file = os.path.join(directory_name, sorted_text_file_name)\n",
        "\n",
        "with open(sorted_text_file, 'w') as file:\n",
        "  for term, info in sorted_inverted_index.items():\n",
        "    file.write(f\"{term} : {info}\\n\")\n",
        "\n",
        "print(\"Sorted unigram inverted index created.\")"
      ],
      "metadata": {
        "colab": {
          "base_uri": "https://localhost:8080/"
        },
        "id": "CL35zl0g_6Ho",
        "outputId": "aef5bd6d-e8b2-4486-bb57-9d9b3ec5f541"
      },
      "execution_count": 27,
      "outputs": [
        {
          "output_type": "stream",
          "name": "stdout",
          "text": [
            "Sorted unigram inverted index created.\n"
          ]
        }
      ]
    },
    {
      "cell_type": "markdown",
      "source": [
        "# **2. Pickling the Unigram Inverted Index**\n",
        "\n",
        "---\n",
        "\n"
      ],
      "metadata": {
        "id": "8sBWBqDO_Q5A"
      }
    },
    {
      "cell_type": "code",
      "source": [
        "import pickle\n",
        "\n",
        "pkl_file_name = \"sorted_unigram_inverted_index.pkl\"\n",
        "pkl_file_path = os.path.join(directory_name, pkl_file_name)\n",
        "\n",
        "with open(pkl_file_path, 'wb') as file:\n",
        "  pickle.dump(sorted_inverted_index, file)\n",
        "\n",
        "print(\"Sorted unigram inverted index pickled.\")"
      ],
      "metadata": {
        "colab": {
          "base_uri": "https://localhost:8080/"
        },
        "id": "tYQXVUG-FFtb",
        "outputId": "a8cfbf9a-c24a-45e7-8068-05e4853e507e"
      },
      "execution_count": 28,
      "outputs": [
        {
          "output_type": "stream",
          "name": "stdout",
          "text": [
            "Sorted unigram inverted index pickled.\n"
          ]
        }
      ]
    },
    {
      "cell_type": "markdown",
      "source": [
        "# **3. Providing support for the query operations:**\n",
        "\n",
        "---\n",
        "\n",
        "\n",
        "\n",
        "1.   T1 **AND** T2\n",
        "2.   T1 **OR** T2\n",
        "3.   T1 **AND NOT** T2\n",
        "4.   T1 **OR NOT** T2\n",
        "\n"
      ],
      "metadata": {
        "id": "Q3bXVqClHxTk"
      }
    },
    {
      "cell_type": "markdown",
      "source": [
        "**BOOLEAN OPERATIONS**"
      ],
      "metadata": {
        "id": "Pn-bmphVexkQ"
      }
    },
    {
      "cell_type": "markdown",
      "source": [
        "**1. Intersection function**"
      ],
      "metadata": {
        "id": "HyOqIBQbXz2L"
      }
    },
    {
      "cell_type": "code",
      "source": [
        "def intersection_operation(list_1, list_2):\n",
        "  intersected_list = []\n",
        "\n",
        "  pointer_1 = 0\n",
        "  pointer_2 = 0\n",
        "  while (pointer_1 < len(list_1) and pointer_2 < len(list_2)):\n",
        "    if list_1[pointer_1] == list_2[pointer_2]:\n",
        "      intersected_list.append(list_1[pointer_1])\n",
        "      pointer_1 += 1\n",
        "      pointer_2 += 1\n",
        "    elif list_1[pointer_1] > list_2[pointer_2]:\n",
        "      pointer_2 += 1\n",
        "    else:\n",
        "      pointer_1 += 1\n",
        "  return intersected_list"
      ],
      "metadata": {
        "id": "MnwzIc8gYJCv"
      },
      "execution_count": null,
      "outputs": []
    },
    {
      "cell_type": "markdown",
      "source": [
        "**2. Union Function**"
      ],
      "metadata": {
        "id": "5iy7LiyEYNzg"
      }
    },
    {
      "cell_type": "code",
      "source": [
        "def union_operation(list_1, list_2):\n",
        "\n",
        "  # itersecting only the\n",
        "  unioned_list = []\n",
        "\n",
        "  pointer_1 = 0\n",
        "  pointer_2 = 0\n",
        "\n",
        "  while pointer_1 < len(list_1) and pointer_2 < len(list_2):\n",
        "    if list_1[pointer_1] == list_2[pointer_2]:\n",
        "      unioned_list.append(list_1[pointer_1])\n",
        "      pointer_1 += 1\n",
        "      pointer_2 +=1\n",
        "    elif list_1[pointer_1] > list_2[pointer_2]:\n",
        "      unioned_list.append(list_2[pointer_2])\n",
        "      pointer_2 += 1\n",
        "    else:\n",
        "      unioned_list.append(list_1[pointer_1])\n",
        "      pointer_1 += 1\n",
        "\n",
        "  if pointer_1 < len(list_1):\n",
        "    unioned_list.extend(list_1[pointer_1:])\n",
        "  if pointer_2 < len(list_2):\n",
        "    unioned_list.extend(list_2[pointer_2:])\n",
        "\n",
        "  return unioned_list"
      ],
      "metadata": {
        "id": "Et-01Fw0YXX-"
      },
      "execution_count": null,
      "outputs": []
    },
    {
      "cell_type": "markdown",
      "source": [
        "**3. Not Function**"
      ],
      "metadata": {
        "id": "aNeelKkyYd0o"
      }
    },
    {
      "cell_type": "code",
      "source": [
        "def difference_operation(posting_list):\n",
        "  corpus_path = \"/content/drive/MyDrive/Information Retrieval/preprocessed_data\"\n",
        "\n",
        "  corpus_set = set(os.listdir(corpus_path))\n",
        "  corpus_list = sorted_posting_list(corpus_set)\n",
        "\n",
        "  if len(posting_list) == 0:\n",
        "    return corpus_list\n",
        "\n",
        "  for num in posting_list:\n",
        "    if num in corpus_list:\n",
        "      corpus_list.remove(num)\n",
        "\n",
        "  return corpus_list"
      ],
      "metadata": {
        "id": "kfeoYFfEe2r8"
      },
      "execution_count": 64,
      "outputs": []
    },
    {
      "cell_type": "markdown",
      "source": [
        "**Function to extract the numeric part form the list of document-Id and sort the numeric list**"
      ],
      "metadata": {
        "id": "ur4Jo2HyXlC5"
      }
    },
    {
      "cell_type": "code",
      "source": [
        "import re\n",
        "\n",
        "# sorting the posting lists based on the numeric part of their name\n",
        "# FROM --> ['file1.txt', 'file2.txt', 'file3.txt']\n",
        "# TO ----> [1, 2, 3]\n",
        "\n",
        "def sorted_posting_list(posting_list):\n",
        "  pattern = re.compile(r'\\d+')\n",
        "\n",
        "  # lsist to store the numeric part\n",
        "  numeric_list = []\n",
        "\n",
        "  for posting in posting_list:\n",
        "    matches = pattern.search(posting)\n",
        "    if matches:\n",
        "      numeric_part = int(matches.group())\n",
        "      numeric_list.append(numeric_part)\n",
        "    else:\n",
        "      numeric_list.append(0)\n",
        "\n",
        "  numeric_list.sort()\n",
        "  return numeric_list"
      ],
      "metadata": {
        "id": "0brcI2ZJXiSl"
      },
      "execution_count": null,
      "outputs": []
    },
    {
      "cell_type": "markdown",
      "source": [
        "***Check Point:***\n",
        "\n",
        "To check the working of operations on posting list"
      ],
      "metadata": {
        "id": "RM5yaMp_KIFT"
      }
    },
    {
      "cell_type": "code",
      "source": [
        "posting1 = ['file542.txt', 'file174.txt', 'file264.txt', 'file746.txt', 'file886.txt', 'file166.txt']\n",
        "posting2 = ['file797.txt', 'file956.txt', 'file174.txt', 'file942.txt', 'file73.txt', 'file892.txt', 'file698.txt', 'file981.txt', 'file313.txt', 'file780.txt', 'file682.txt', 'file738.txt', 'file864.txt', 'file863.txt', 'file573.txt', 'file860.txt', 'file459.txt', 'file404.txt', 'file886.txt', 'file3.txt', 'file118.txt', 'file686.txt', 'file699.txt', 'file466.txt', 'file665.txt', 'file363.txt', 'file930.txt']\n",
        "\n",
        "numeric_list1 = sorted_posting_list(posting1)\n",
        "numeric_list2 = sorted_posting_list(posting2)\n",
        "\n",
        "print(\"Sorted numeric posting list 1: \")\n",
        "print(numeric_list1)\n",
        "print(\"\\nSorted numeric posting list 2: \")\n",
        "print(numeric_list2)\n",
        "\n",
        "intersect_list = intersection_operation(numeric_list1, numeric_list2)\n",
        "print(\"\\nIntersection :\")\n",
        "print(intersect_list)\n",
        "\n",
        "print(\"\\nUnion : \")\n",
        "union_list = union_operation(numeric_list1, numeric_list2)\n",
        "print(union_list)\n",
        "\n",
        "print(\"\\nDifference posting list 2: \")\n",
        "difference_list = difference_operation(numeric_list2)\n",
        "print(difference_list)"
      ],
      "metadata": {
        "colab": {
          "base_uri": "https://localhost:8080/"
        },
        "id": "rYEjIOAD7DnA",
        "outputId": "01c94300-5702-4e1c-eae0-052a975f0db1"
      },
      "execution_count": 61,
      "outputs": [
        {
          "output_type": "stream",
          "name": "stdout",
          "text": [
            "Sorted numeric posting list 1: \n",
            "[166, 174, 264, 542, 746, 886]\n",
            "\n",
            "Sorted numeric posting list 2: \n",
            "[3, 73, 118, 174, 313, 363, 404, 459, 466, 573, 665, 682, 686, 698, 699, 738, 780, 797, 860, 863, 864, 886, 892, 930, 942, 956, 981]\n",
            "\n",
            "Intersection :\n",
            "[174, 886]\n",
            "\n",
            "Union : \n",
            "[3, 73, 118, 166, 174, 264, 313, 363, 404, 459, 466, 542, 573, 665, 682, 686, 698, 699, 738, 746, 780, 797, 860, 863, 864, 886, 892, 930, 942, 956, 981]\n",
            "\n",
            "Difference posting list 2: \n",
            "[1, 2, 4, 5, 6, 7, 8, 9, 10, 11, 12, 13, 14, 15, 16, 17, 18, 19, 20, 21, 22, 23, 24, 25, 26, 27, 28, 29, 30, 31, 32, 33, 34, 35, 36, 37, 38, 39, 40, 41, 42, 43, 44, 45, 46, 47, 48, 49, 50, 51, 52, 53, 54, 55, 56, 57, 58, 59, 60, 61, 62, 63, 64, 65, 66, 67, 68, 69, 70, 71, 72, 74, 75, 76, 77, 78, 79, 80, 81, 82, 83, 84, 85, 86, 87, 88, 89, 90, 91, 92, 93, 94, 95, 96, 97, 98, 99, 100, 101, 102, 103, 104, 105, 106, 107, 108, 109, 110, 111, 112, 113, 114, 115, 116, 117, 119, 120, 121, 122, 123, 124, 125, 126, 127, 128, 129, 130, 131, 132, 133, 134, 135, 136, 137, 138, 139, 140, 141, 142, 143, 144, 145, 146, 147, 148, 149, 150, 151, 152, 153, 154, 155, 156, 157, 158, 159, 160, 161, 162, 163, 164, 165, 166, 167, 168, 169, 170, 171, 172, 173, 175, 176, 177, 178, 179, 180, 181, 182, 183, 184, 185, 186, 187, 188, 189, 190, 191, 192, 193, 194, 195, 196, 197, 198, 199, 200, 201, 202, 203, 204, 205, 206, 207, 208, 209, 210, 211, 212, 213, 214, 215, 216, 217, 218, 219, 220, 221, 222, 223, 224, 225, 226, 227, 228, 229, 230, 231, 232, 233, 234, 235, 236, 237, 238, 239, 240, 241, 242, 243, 244, 245, 246, 247, 248, 249, 250, 251, 252, 253, 254, 255, 256, 257, 258, 259, 260, 261, 262, 263, 264, 265, 266, 267, 268, 269, 270, 271, 272, 273, 274, 275, 276, 277, 278, 279, 280, 281, 282, 283, 284, 285, 286, 287, 288, 289, 290, 291, 292, 293, 294, 295, 296, 297, 298, 299, 300, 301, 302, 303, 304, 305, 306, 307, 308, 309, 310, 311, 312, 314, 315, 316, 317, 318, 319, 320, 321, 322, 323, 324, 325, 326, 327, 328, 329, 330, 331, 332, 333, 334, 335, 336, 337, 338, 339, 340, 341, 342, 343, 344, 345, 346, 347, 348, 349, 350, 351, 352, 353, 354, 355, 356, 357, 358, 359, 360, 361, 362, 364, 365, 366, 367, 368, 369, 370, 371, 372, 373, 374, 375, 376, 377, 378, 379, 380, 381, 382, 383, 384, 385, 386, 387, 388, 389, 390, 391, 392, 393, 394, 395, 396, 397, 398, 399, 400, 401, 402, 403, 405, 406, 407, 408, 409, 410, 411, 412, 413, 414, 415, 416, 417, 418, 419, 420, 421, 422, 423, 424, 425, 426, 427, 428, 429, 430, 431, 432, 433, 434, 435, 436, 437, 438, 439, 440, 441, 442, 443, 444, 445, 446, 447, 448, 449, 450, 451, 452, 453, 454, 455, 456, 457, 458, 460, 461, 462, 463, 464, 465, 467, 468, 469, 470, 471, 472, 473, 474, 475, 476, 477, 478, 479, 480, 481, 482, 483, 484, 485, 486, 487, 488, 489, 490, 491, 492, 493, 494, 495, 496, 497, 498, 499, 500, 501, 502, 503, 504, 505, 506, 507, 508, 509, 510, 511, 512, 513, 514, 515, 516, 517, 518, 519, 520, 521, 522, 523, 524, 525, 526, 527, 528, 529, 530, 531, 532, 533, 534, 535, 536, 537, 538, 539, 540, 541, 542, 543, 544, 545, 546, 547, 548, 549, 550, 551, 552, 553, 554, 555, 556, 557, 558, 559, 560, 561, 562, 563, 564, 565, 566, 567, 568, 569, 570, 571, 572, 574, 575, 576, 577, 578, 579, 580, 581, 582, 583, 584, 585, 586, 587, 588, 589, 590, 591, 592, 593, 594, 595, 596, 597, 598, 599, 600, 601, 602, 603, 604, 605, 606, 607, 608, 609, 610, 611, 612, 613, 614, 615, 616, 617, 618, 619, 620, 621, 622, 623, 624, 625, 626, 627, 628, 629, 630, 631, 632, 633, 634, 635, 636, 637, 638, 639, 640, 641, 642, 643, 644, 645, 646, 647, 648, 649, 650, 651, 652, 653, 654, 655, 656, 657, 658, 659, 660, 661, 662, 663, 664, 666, 667, 668, 669, 670, 671, 672, 673, 674, 675, 676, 677, 678, 679, 680, 681, 683, 684, 685, 687, 688, 689, 690, 691, 692, 693, 694, 695, 696, 697, 700, 701, 702, 703, 704, 705, 706, 707, 708, 709, 710, 711, 712, 713, 714, 715, 716, 717, 718, 719, 720, 721, 722, 723, 724, 725, 726, 727, 728, 729, 730, 731, 732, 733, 734, 735, 736, 737, 739, 740, 741, 742, 743, 744, 745, 746, 747, 748, 749, 750, 751, 752, 753, 754, 755, 756, 757, 758, 759, 760, 761, 762, 763, 764, 765, 766, 767, 768, 769, 770, 771, 772, 773, 774, 775, 776, 777, 778, 779, 781, 782, 783, 784, 785, 786, 787, 788, 789, 790, 791, 792, 793, 794, 795, 796, 798, 799, 800, 801, 802, 803, 804, 805, 806, 807, 808, 809, 810, 811, 812, 813, 814, 815, 816, 817, 818, 819, 820, 821, 822, 823, 824, 825, 826, 827, 828, 829, 830, 831, 832, 833, 834, 835, 836, 837, 838, 839, 840, 841, 842, 843, 844, 845, 846, 847, 848, 849, 850, 851, 852, 853, 854, 855, 856, 857, 858, 859, 861, 862, 865, 866, 867, 868, 869, 870, 871, 872, 873, 874, 875, 876, 877, 878, 879, 880, 881, 882, 883, 884, 885, 887, 888, 889, 890, 891, 893, 894, 895, 896, 897, 898, 899, 900, 901, 902, 903, 904, 905, 906, 907, 908, 909, 910, 911, 912, 913, 914, 915, 916, 917, 918, 919, 920, 921, 922, 923, 924, 925, 926, 927, 928, 929, 931, 932, 933, 934, 935, 936, 937, 938, 939, 940, 941, 943, 944, 945, 946, 947, 948, 949, 950, 951, 952, 953, 954, 955, 957, 958, 959, 960, 961, 962, 963, 964, 965, 966, 967, 968, 969, 970, 971, 972, 973, 974, 975, 976, 977, 978, 979, 980, 982, 983, 984, 985, 986, 987, 988, 989, 990, 991, 992, 993, 994, 995, 996, 997, 998, 999]\n"
          ]
        }
      ]
    },
    {
      "cell_type": "markdown",
      "source": [
        "# **Passing the Query along with Boolean expression**"
      ],
      "metadata": {
        "id": "DbwLfpQrZNwZ"
      }
    },
    {
      "cell_type": "markdown",
      "source": [
        "Algorithm: (Not based on the length of the posting list)\n",
        "  ***  \n",
        "    #   query_tokens : [word1, word2, word3, word4]\n",
        "    #   operator_list : [operator1, operator2, operator3]\n",
        "\n",
        "    1.  creating a new list which will store the posting lists of the corresponding words\n",
        "          query_postings = [posting_list_word_1, posting_list_word_2, posting_list_word_3, posting_list_word_4]\n",
        "    2.  while operator_list is not empty:\n",
        "    2.  perfomring the operation on query_postings[0] and query_postings[1] with operator_list[0] ALWAYS\n",
        "          result_posting_list = posting_list_function(query_tokens[0], query_tokens[1], operators[0])\n",
        "    3.  Pop out the query_postngs[0] and query_postings[1] as their work is done\n",
        "    4.  pop out the operator_list[0] as well as its work is also done\n",
        "    5.  Storing the resulted posting list at the 0th index of the query_postings[]"
      ],
      "metadata": {
        "id": "k4AQGwcWEmkJ"
      }
    },
    {
      "cell_type": "code",
      "source": [
        "def operations_on_query(query_tokens, operator_list, inverted_index):\n",
        "  # list to store the posting lists of corresponding query tokens (list of lists)\n",
        "  posting_list = []\n",
        "  for token in query_tokens:\n",
        "    if token in inverted_index:\n",
        "      posting_list.append(inverted_index[token]['documents'])\n",
        "    else:\n",
        "      posting_list.append([])\n",
        "\n",
        "  # check point: printing token and their posting list\n",
        "  print(\"\\nTerm : Posting List\")\n",
        "  for token, documents in zip(query_tokens, posting_list):\n",
        "    print(token, \" : \", documents)\n",
        "\n",
        "  # performing operation on posting list and inverted index\n",
        "  while(len(operator_list) > 0):\n",
        "\n",
        "    # retrieving the first two posting list present in\n",
        "    list_1 = posting_list.pop(0)\n",
        "    list_2 = posting_list.pop(0)\n",
        "\n",
        "    # extrcting the numeric part of the docID present in list_1 and list_2 in sorted manner\n",
        "    list_1 = sorted_posting_list(list_1)\n",
        "    list_2 = sorted_posting_list(list_2)\n",
        "\n",
        "    operator = operator_list.pop(0)\n",
        "\n",
        "    # removing the whitespaces\n",
        "    operator = operator.strip()\n",
        "\n",
        "    intermediate_posting_list = []\n",
        "\n",
        "    # Operations on posting list\n",
        "    if operator.lower() == 'and':\n",
        "      intermediate_posting_list = intersection_operation(list_1, list_2)\n",
        "    elif operator.lower() == \"or\":\n",
        "      intermediate_posting_list = union_operation(list_1, list_2)\n",
        "    elif operator.lower() == \"and not\":\n",
        "      not_posting_list = difference_operation(list_2)\n",
        "      intermediate_posting_list = intersection_operation(list_1, not_posting_list)\n",
        "    elif operator.lower() == \"or not\":\n",
        "      not_posting_list = difference_operation(list_2)\n",
        "      intermediate_posting_list = intersection_operation(list_1, not_posting_list)\n",
        "\n",
        "    # as the intermediate posting list generated is a list of integer typ, we have to convert it back to list of string type\n",
        "    # FROM --> [1, 2, 3]\n",
        "    # TO ----> ['file1.txt', 'file2.txt', 'file3.txt']\n",
        "    string_intermediate_posting_list = []\n",
        "\n",
        "    for num in intermediate_posting_list:\n",
        "      string_intermediate_posting_list.append(\"file\" + str(num) + \".txt\")\n",
        "\n",
        "    # appending the intermediate posting list at the 0th index\n",
        "    posting_list.insert(0, string_intermediate_posting_list)\n",
        "\n",
        "  return posting_list[0]"
      ],
      "metadata": {
        "id": "jK27ZIxZEkoJ"
      },
      "execution_count": 77,
      "outputs": []
    },
    {
      "cell_type": "markdown",
      "source": [
        "**Function to preprocess the Query**"
      ],
      "metadata": {
        "id": "p529pAb3LW8u"
      }
    },
    {
      "cell_type": "code",
      "source": [
        "import string\n",
        "import nltk\n",
        "\n",
        "from nltk.tokenize import word_tokenize\n",
        "from nltk.corpus import stopwords\n",
        "\n",
        "nltk.download('punkt')\n",
        "nltk.download('stopwords')\n",
        "\n",
        "def preprocessing(query):\n",
        "  # lower case the query\n",
        "  query = query.lower()\n",
        "\n",
        "  # tokenizing\n",
        "  tokens = word_tokenize(query)\n",
        "\n",
        "  # punctuation removal\n",
        "  tokens = [word for word in tokens if word not in string.punctuation]\n",
        "\n",
        "  # stopwords removal\n",
        "  stop_words = set(stopwords.words('english'))\n",
        "  tokens = [word for word in tokens if word not in stop_words]\n",
        "\n",
        "  return tokens"
      ],
      "metadata": {
        "colab": {
          "base_uri": "https://localhost:8080/"
        },
        "id": "FxL4tY_wLLnn",
        "outputId": "2c5df109-0036-4863-abed-af9724bf2532"
      },
      "execution_count": 29,
      "outputs": [
        {
          "output_type": "stream",
          "name": "stderr",
          "text": [
            "[nltk_data] Downloading package punkt to /root/nltk_data...\n",
            "[nltk_data]   Package punkt is already up-to-date!\n",
            "[nltk_data] Downloading package stopwords to /root/nltk_data...\n",
            "[nltk_data]   Package stopwords is already up-to-date!\n"
          ]
        }
      ]
    },
    {
      "cell_type": "markdown",
      "source": [
        "**Passing query along with operation**"
      ],
      "metadata": {
        "id": "rFU_NZqdboT-"
      }
    },
    {
      "cell_type": "code",
      "source": [
        "# loading the pickled file\n",
        "with open(pkl_file_path, 'rb') as file:\n",
        "  inverted_index = pickle.load(file)\n",
        "\n",
        "# input query\n",
        "print(\"Enter input sequence: \")\n",
        "query = input()\n",
        "\n",
        "# input operations\n",
        "print(\"Enter operations (AND, OR, AND NOT, OR NOT) seperated by comams:\")\n",
        "operations = input()\n",
        "operators = operations.split(',')\n",
        "\n",
        "# passing the query for preprocessing\n",
        "query_tokens = preprocessing(query)\n",
        "\n",
        "print(\"\\nPreprocessed Tokens: \" ,query_tokens)\n",
        "print(\"\\nOperations sequence: \", operators)\n",
        "\n",
        "# Check point 1: Length of the token list is not 0\n",
        "if len(query_tokens) == 0:\n",
        "  print(\"\\nNot a good query\")\n",
        "\n",
        "# Check point 2: If the there is only one token in preprocessed token list\n",
        "elif len(query_tokens)  == 1:\n",
        "  print(\"\\nQuery : \", query_tokens[0])\n",
        "\n",
        "# Check point 3: operator list should be 1 less than token list for the operations\n",
        "elif len(query_tokens) -1 != len(operators):\n",
        "  print(\"\\nNot a good operations sequence\")\n",
        "\n",
        "# Check point 4: other wise perform the operations\n",
        "else:\n",
        "  retrieved_document = operations_on_query(query_tokens, operators, inverted_index)\n",
        "  print(\"\\nRetrieved documents:\\n\", retrieved_document)"
      ],
      "metadata": {
        "colab": {
          "base_uri": "https://localhost:8080/"
        },
        "id": "xOkleXUMIcAE",
        "outputId": "07aa37a7-90f0-462f-9940-fa2451bab47f"
      },
      "execution_count": 78,
      "outputs": [
        {
          "output_type": "stream",
          "name": "stdout",
          "text": [
            "Enter input sequence: \n",
            "Car bag in A canister\n",
            "Enter operations (AND, OR, AND NOT, OR NOT) seperated by comams:\n",
            "Or, and Not\n",
            "\n",
            "Preprocessed Tokens:  ['car', 'bag', 'canister']\n",
            "\n",
            "Operations sequence:  ['Or', ' and Not']\n",
            "\n",
            "Term : Posting List\n",
            "car  :  ['file542.txt', 'file174.txt', 'file264.txt', 'file746.txt', 'file886.txt', 'file166.txt']\n",
            "bag  :  ['file797.txt', 'file956.txt', 'file174.txt', 'file942.txt', 'file73.txt', 'file892.txt', 'file698.txt', 'file981.txt', 'file313.txt', 'file780.txt', 'file682.txt', 'file738.txt', 'file864.txt', 'file863.txt', 'file573.txt', 'file860.txt', 'file459.txt', 'file404.txt', 'file886.txt', 'file3.txt', 'file118.txt', 'file686.txt', 'file699.txt', 'file466.txt', 'file665.txt', 'file363.txt', 'file930.txt']\n",
            "canister  :  []\n",
            "\n",
            "Retrieved documents:\n",
            " ['file3.txt', 'file73.txt', 'file118.txt', 'file166.txt', 'file174.txt', 'file264.txt', 'file313.txt', 'file363.txt', 'file404.txt', 'file459.txt', 'file466.txt', 'file542.txt', 'file573.txt', 'file665.txt', 'file682.txt', 'file686.txt', 'file698.txt', 'file699.txt', 'file738.txt', 'file746.txt', 'file780.txt', 'file797.txt', 'file860.txt', 'file863.txt', 'file864.txt', 'file886.txt', 'file892.txt', 'file930.txt', 'file942.txt', 'file956.txt', 'file981.txt']\n"
          ]
        }
      ]
    }
  ]
}