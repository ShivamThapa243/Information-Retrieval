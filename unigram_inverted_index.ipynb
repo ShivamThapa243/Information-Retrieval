{
  "nbformat": 4,
  "nbformat_minor": 0,
  "metadata": {
    "colab": {
      "provenance": [],
      "authorship_tag": "ABX9TyPmSr6hxFmwboFCgsRD1+jc",
      "include_colab_link": true
    },
    "kernelspec": {
      "name": "python3",
      "display_name": "Python 3"
    },
    "language_info": {
      "name": "python"
    }
  },
  "cells": [
    {
      "cell_type": "markdown",
      "metadata": {
        "id": "view-in-github",
        "colab_type": "text"
      },
      "source": [
        "<a href=\"https://colab.research.google.com/github/ShivamThapa243/Information-Retrieval/blob/main/unigram_inverted_index.ipynb\" target=\"_parent\"><img src=\"https://colab.research.google.com/assets/colab-badge.svg\" alt=\"Open In Colab\"/></a>"
      ]
    },
    {
      "cell_type": "markdown",
      "source": [
        "# UNIGRAM INVERTED INDEX\n",
        "\n"
      ],
      "metadata": {
        "id": "jyfiLkRMO8B5"
      }
    },
    {
      "cell_type": "markdown",
      "source": [
        "\n",
        "\n",
        "**1. Building Unigram Inverted Index**\n",
        "\n",
        "---\n",
        "\n",
        "\n",
        "\n"
      ],
      "metadata": {
        "id": "ZZ1G8EOl-_QW"
      }
    },
    {
      "cell_type": "code",
      "execution_count": 10,
      "metadata": {
        "id": "7eGwA0lqOwVZ",
        "colab": {
          "base_uri": "https://localhost:8080/"
        },
        "outputId": "9ec97fa6-5cd9-4e61-e4d1-faa50ae8e343"
      },
      "outputs": [
        {
          "output_type": "stream",
          "name": "stdout",
          "text": [
            "Drive already mounted at /content/drive; to attempt to forcibly remount, call drive.mount(\"/content/drive\", force_remount=True).\n"
          ]
        }
      ],
      "source": [
        "# importing files from drive\n",
        "\n",
        "from google.colab import drive\n",
        "drive.mount('/content/drive')"
      ]
    },
    {
      "cell_type": "markdown",
      "source": [
        "Function to build an unigram inverted index\n",
        "\n",
        "Structure of inverted index:\n",
        "*   word1: {counts: x, documents: [doc1, dox2, doc3...]}\n",
        "*   word2: {counts: y, documents: [doc3, doc4, doc5...]}\n",
        "*   ...\n",
        "\n",
        "\n",
        "    "
      ],
      "metadata": {
        "id": "j7t4dLlkaMZG"
      }
    },
    {
      "cell_type": "code",
      "source": [
        "import os\n",
        "\n",
        "def unigram_inverted_index_builder(dataset_directory):\n",
        "  unigram_inverted_index = {}\n",
        "  list_file = os.listdir(dataset_directory)\n",
        "\n",
        "  # Iterating through each file present in the directory\n",
        "  for filename in list_file:\n",
        "    if filename.endswith(\".txt\"):\n",
        "      # Reading the content of the file\n",
        "      file_path = os.path.join(dataset_directory, filename)\n",
        "      with open(file_path, 'r') as file:\n",
        "        content = file.read()\n",
        "\n",
        "      # tokenizing the documnet to get unique tokens\n",
        "      content_list = content.split()\n",
        "      unique_content = set(content_list)\n",
        "\n",
        "      # Updating the unigram inverted index\n",
        "      for token in unique_content:\n",
        "        # if the token is already in the inverted_index\n",
        "        if token in unigram_inverted_index:\n",
        "          unigram_inverted_index[token]['count'] += 1\n",
        "          if filename not in unigram_inverted_index[token]['documents']:\n",
        "            unigram_inverted_index[token]['documents'].append(filename)\n",
        "        else:\n",
        "          unigram_inverted_index[token] = {'count' : 1, 'documents': [filename]}\n",
        "  return unigram_inverted_index\n"
      ],
      "metadata": {
        "id": "LduAmbNE6wFK"
      },
      "execution_count": 11,
      "outputs": []
    },
    {
      "cell_type": "markdown",
      "source": [
        "Invoking the unigram_inverted_index_builder function to build the inverted index"
      ],
      "metadata": {
        "id": "LmVXAr25nggM"
      }
    },
    {
      "cell_type": "code",
      "source": [
        "# location of preprocessed data set which is stored in the google drive\n",
        "dataset_directory = \"/content/drive/MyDrive/Information Retrieval/preprocessed_data\"\n",
        "\n",
        "# calling the builder function by passing the data set location\n",
        "unigram_inverted_index = unigram_inverted_index_builder(dataset_directory)\n",
        "\n",
        "# storing the newely generated unigram inverted index into a new text file\n",
        "directory_name = \"/content/drive/MyDrive/Information Retrieval\"\n",
        "text_file_name = \"unigram_inverted_index_dataset.txt\"\n",
        "text_file = os.path.join(directory_name, text_file_name)\n",
        "\n",
        "with open(text_file, 'w') as file:\n",
        "  for term, info in unigram_inverted_index.items():\n",
        "    file.write(f\"{term}: {info}\\n\")\n",
        "\n",
        "print(\"Unigram inverted index created\")"
      ],
      "metadata": {
        "colab": {
          "base_uri": "https://localhost:8080/"
        },
        "id": "PUzZjL0vY2Ar",
        "outputId": "22f1985c-8359-4ffc-e0f4-ae222faf8ff0"
      },
      "execution_count": 14,
      "outputs": [
        {
          "output_type": "stream",
          "name": "stdout",
          "text": [
            "Unigram inverted index created\n"
          ]
        }
      ]
    },
    {
      "cell_type": "markdown",
      "source": [
        "Sorting the inverted index"
      ],
      "metadata": {
        "id": "vmy-QBX0A_vm"
      }
    },
    {
      "cell_type": "code",
      "source": [
        "# sorting the earlier generated unigram inverted index\n",
        "sorted_items = sorted(unigram_inverted_index.items(), key = lambda x : x[0])\n",
        "sorted_inverted_index = dict(sorted_items)\n",
        "\n",
        "# storing the sorted inverted index into a new text file\n",
        "sorted_text_file_name = \"sorted_unigram_inverted_index_dataset.txt\"\n",
        "sorted_text_file = os.path.join(directory_name, sorted_text_file_name)\n",
        "\n",
        "with open(sorted_text_file, 'w') as file:\n",
        "  for term, info in sorted_inverted_index.items():\n",
        "    file.write(f\"{term} : {info}\\n\")\n",
        "\n",
        "print(\"Sorted unigram inverted index created.\")"
      ],
      "metadata": {
        "colab": {
          "base_uri": "https://localhost:8080/"
        },
        "id": "CL35zl0g_6Ho",
        "outputId": "b6f05636-1112-445b-b1b2-5d21ad73e91a"
      },
      "execution_count": 15,
      "outputs": [
        {
          "output_type": "stream",
          "name": "stdout",
          "text": [
            "Sorted unigram inverted index created.\n"
          ]
        }
      ]
    },
    {
      "cell_type": "markdown",
      "source": [
        "**Stage 2. Pickling the Unigram Inverted Index**\n",
        "\n",
        "---\n",
        "\n"
      ],
      "metadata": {
        "id": "8sBWBqDO_Q5A"
      }
    },
    {
      "cell_type": "code",
      "source": [
        "import pickle\n",
        "\n",
        "pkl_file_name = \"sorted_unigram_inverted_index.pkl\"\n",
        "pkl_file_path = os.path.join(directory_name, pkl_file_name)\n",
        "\n",
        "with open(pkl_file_path, 'wb') as file:\n",
        "  pickle.dump(sorted_inverted_index, file)\n",
        "\n",
        "print(\"Sorted unigram inverted index pickled.\")"
      ],
      "metadata": {
        "colab": {
          "base_uri": "https://localhost:8080/"
        },
        "id": "tYQXVUG-FFtb",
        "outputId": "a29e651c-2d5f-4991-edc1-72627aa44818"
      },
      "execution_count": 16,
      "outputs": [
        {
          "output_type": "stream",
          "name": "stdout",
          "text": [
            "Sorted unigram inverted index pickled.\n"
          ]
        }
      ]
    }
  ]
}